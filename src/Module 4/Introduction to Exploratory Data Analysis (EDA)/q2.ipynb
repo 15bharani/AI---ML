{
 "cells": [
  {
   "cell_type": "markdown",
   "metadata": {},
   "source": [
    "**Title**: Understanding the Dataset <br>\n",
    "\n",
    "**Task**: For the given datasets below, identify the data types and dimensions.<br>\n",
    "\n",
    "Task 1: Employee Dataset<br>\n",
    "Columns: Employee ID , Name , Age , Department , Salary , Joining Date<br>\n",
    "Task 2: Product Sales Dataset<br>\n",
    "Columns: Product ID , Product Name , Price , Quantity Sold , Category , Sales Date<br>\n",
    "Task 3: Student Grades Dataset<br>\n",
    "Columns: Student ID , Student Name , Math Score , Science Score , English Score ,Year<br>\n",
    "\n",
    "Instructions:<br>\n",
    "\n",
    "Identify which columns are numerical (continuous or discrete) and which are categorical\n",
    "(nominal or ordinal).<br>\n",
    "Note down the dimensions (number of rows and columns) of the dataset."
   ]
  },
  {
   "cell_type": "code",
   "execution_count": 1,
   "metadata": {},
   "outputs": [],
   "source": [
    "# Write your code from here"
   ]
  },
  {
   "cell_type": "markdown",
   "metadata": {},
   "source": [
    "**Title**: Checking for Missing Values<br>\n",
    "\n",
    "**Task**: Identify and count the number of missing values in each dataset.<br>\n",
    "\n",
    "Instructions:<br>\n",
    "Use Python or any data manipulation tool to check for missing values in each column of the datasets. <br>Report the columns which have missing values and their counts."
   ]
  },
  {
   "cell_type": "code",
   "execution_count": 2,
   "metadata": {},
   "outputs": [],
   "source": [
    "# Write your code from here"
   ]
  },
  {
   "cell_type": "markdown",
   "metadata": {},
   "source": [
    "**Title**: Handling Outliers<br>\n",
    "\n",
    "**Task**: Detect and propose handling methods for outliers in the numerical columns of the datasets.<br>\n",
    "\n",
    "Task 1: Age in Employee Dataset<br>\n",
    "Task 2: Price in Product Sales Dataset<br>\n",
    "Task 3: Math Score in Student Grades Dataset<br>\n",
    "\n",
    "Instructions:<br>\n",
    "\n",
    "Use box plots to visualize potential outliers.<br>\n",
    "Suggest methods to handle them, such as removal or transformation."
   ]
  },
  {
   "cell_type": "code",
   "execution_count": 3,
   "metadata": {},
   "outputs": [],
   "source": [
    "# Write your code from here"
   ]
  },
  {
   "cell_type": "markdown",
   "metadata": {},
   "source": [
    "**Title**: Visualizing Data Distributions<br>\n",
    "\n",
    "**Task**: Create visualizations for data distributions.<br>\n",
    "\n",
    "Task 1: Histogram for Age in Employee Dataset<br>\n",
    "Task 2: Distribution plot for Price in Product Sales Dataset<br>\n",
    "Task 3: Histogram for Math Score in Student Grades Dataset\n",
    "\n",
    "Instructions:<br>\n",
    "\n",
    "Use matplotlib or seaborn in Python to create the plots.<br>\n",
    "Comment on the skewness or normality of the distributions."
   ]
  },
  {
   "cell_type": "code",
   "execution_count": 4,
   "metadata": {},
   "outputs": [],
   "source": [
    "# Write your code from here"
   ]
  },
  {
   "cell_type": "markdown",
   "metadata": {},
   "source": [
    "**Title**: Finding Relationships Between Features<br>\n",
    "\n",
    "**Task**: Identify relationships between pairs of features in the datasets.<br>\n",
    "\n",
    "Task 1: Salary vs Age in Employee Dataset<br>\n",
    "Task 2: Price vs Quantity Sold in Product Sales Dataset<br>\n",
    "Task 3: Math Score vs Science Score in Student Grades Dataset\n",
    "\n",
    "Instructions: <br>\n",
    "\n",
    "Use scatter plots or correlation coefficients to analyze the relationships.<br>\n",
    "Describe any insights or patterns observed."
   ]
  },
  {
   "cell_type": "code",
   "execution_count": 5,
   "metadata": {},
   "outputs": [],
   "source": [
    "# Write your code from here"
   ]
  }
 ],
 "metadata": {
  "kernelspec": {
   "display_name": "Python 3",
   "language": "python",
   "name": "python3"
  },
  "language_info": {
   "codemirror_mode": {
    "name": "ipython",
    "version": 3
   },
   "file_extension": ".py",
   "mimetype": "text/x-python",
   "name": "python",
   "nbconvert_exporter": "python",
   "pygments_lexer": "ipython3",
   "version": "3.12.5"
  }
 },
 "nbformat": 4,
 "nbformat_minor": 2
}
