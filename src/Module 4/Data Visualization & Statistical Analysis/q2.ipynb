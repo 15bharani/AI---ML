{
 "cells": [
  {
   "cell_type": "markdown",
   "metadata": {},
   "source": [
    "**Univariate Analysis (Single Feature Analysis)**<br>\n",
    "\n",
    "Objective: Understand the distribution and characteristics of a single feature using histograms boxplots, and violin plots.<br>\n",
    "\n",
    "Dataset: Use the Iris dataset or any dataset with multiple numerical features.\n"
   ]
  },
  {
   "cell_type": "markdown",
   "metadata": {},
   "source": [
    "Title: Histogram<br>\n",
    "\n",
    "Task 1: Plot a histogram of the petal length feature."
   ]
  },
  {
   "cell_type": "code",
   "execution_count": 1,
   "metadata": {},
   "outputs": [],
   "source": [
    "# Write your code from here"
   ]
  },
  {
   "cell_type": "markdown",
   "metadata": {},
   "source": [
    "Title: Boxplots<br>\n",
    "\n",
    "Task 2: Plot a boxplot of the petal length feature."
   ]
  },
  {
   "cell_type": "code",
   "execution_count": 2,
   "metadata": {},
   "outputs": [],
   "source": [
    "# Write your code from here"
   ]
  },
  {
   "cell_type": "markdown",
   "metadata": {},
   "source": [
    "Title: Violin Plots<br>\n",
    "\n",
    "Task 3: Plot a violin plot of the petal length feature."
   ]
  },
  {
   "cell_type": "code",
   "execution_count": 3,
   "metadata": {},
   "outputs": [],
   "source": [
    "# Write your code from here"
   ]
  },
  {
   "cell_type": "markdown",
   "metadata": {},
   "source": [
    "**Bivariate Analysis (Relationships Between Features)**<br>\n",
    "\n",
    "Objective: Explore relationships between two features using scatter plots and correlation heatmaps."
   ]
  },
  {
   "cell_type": "markdown",
   "metadata": {},
   "source": [
    "Title: Scatter Plots<br>\n",
    "\n",
    "Task 1: Create a scatter plot between sepal length and sepal width.<br>\n",
    "Task 2: Scatter plot between petal length and petal width.<br>\n",
    "Task 3: Scatter plot between sepal length and petal length.<br>"
   ]
  },
  {
   "cell_type": "code",
   "execution_count": 4,
   "metadata": {},
   "outputs": [],
   "source": [
    "# Write your code from here"
   ]
  },
  {
   "cell_type": "markdown",
   "metadata": {},
   "source": [
    "Title: Correlation Heatmaps<br>\n",
    "\n",
    "Task 1: Generate a correlation heatmap of the dataset.<br>\n",
    "Task 2: Highlight correlation between sepal length and petal length.<br>\n",
    "Task 3: Highlight correlation between petal width and petal length.<br>"
   ]
  },
  {
   "cell_type": "code",
   "execution_count": 5,
   "metadata": {},
   "outputs": [],
   "source": [
    "# Write your code from here"
   ]
  },
  {
   "cell_type": "markdown",
   "metadata": {},
   "source": [
    "**Multivariate Analysis (Higher-Dimensional Data Relationships)**<br>\n",
    "Objective: Analyze relationships in higher-dimensional data using pair plots and PCA."
   ]
  },
  {
   "cell_type": "markdown",
   "metadata": {},
   "source": [
    "Title: Pair Plots<br>\n",
    "\n",
    "Task 1: Create a pair plot for the Iris dataset.<br>\n",
    "Task 2: Focus on a subset of features (e.g., only petal dimensions).<br>\n",
    "Task 3: Exclude one class to observe differences."
   ]
  },
  {
   "cell_type": "code",
   "execution_count": 6,
   "metadata": {},
   "outputs": [],
   "source": [
    "# Write your code from here"
   ]
  },
  {
   "cell_type": "markdown",
   "metadata": {},
   "source": [
    "Title: Principal Component Analysis (PCA)<br>\n",
    "\n",
    "Task 1: Perform PCA and plot the first two principal components.<br>\n",
    "Task 2: Visualize explained variance by each component.<br>\n",
    "Task 3: Retain more components and visualize in 3D."
   ]
  },
  {
   "cell_type": "code",
   "execution_count": 7,
   "metadata": {},
   "outputs": [],
   "source": [
    "# Write your code from here"
   ]
  },
  {
   "cell_type": "markdown",
   "metadata": {},
   "source": [
    "**Statistical Analysis in EDA**<br>\n",
    "\n",
    "Objective: Calculate basic statistical metrics and explore the relationship between features using correlation and covariance.<br>"
   ]
  },
  {
   "cell_type": "markdown",
   "metadata": {},
   "source": [
    "Title: Descriptive Statistics<br>\n",
    "\n",
    "Task 1: Calculate mean, median, and standard deviation of petal length.<br>\n",
    "Task 2: Calculate skewness and kurtosis of sepal width.<br>\n",
    "Task 3: Calculate mean, median, and standard deviation of sepal length."
   ]
  },
  {
   "cell_type": "code",
   "execution_count": 8,
   "metadata": {},
   "outputs": [],
   "source": [
    "# Write your code from here"
   ]
  },
  {
   "cell_type": "markdown",
   "metadata": {},
   "source": [
    "Title: Correlation & Covariance<br>\n",
    "\n",
    "Task 1: Compute correlation between sepal length and petal length.<br>\n",
    "Task 2: Compute covariance between petal width and sepal width.<br>\n",
    "Task 3: Determine the most correlated pair of features.<br>"
   ]
  },
  {
   "cell_type": "code",
   "execution_count": 9,
   "metadata": {},
   "outputs": [],
   "source": [
    "# Write your code from here"
   ]
  }
 ],
 "metadata": {
  "kernelspec": {
   "display_name": "Python 3",
   "language": "python",
   "name": "python3"
  },
  "language_info": {
   "codemirror_mode": {
    "name": "ipython",
    "version": 3
   },
   "file_extension": ".py",
   "mimetype": "text/x-python",
   "name": "python",
   "nbconvert_exporter": "python",
   "pygments_lexer": "ipython3",
   "version": "3.12.5"
  }
 },
 "nbformat": 4,
 "nbformat_minor": 2
}
