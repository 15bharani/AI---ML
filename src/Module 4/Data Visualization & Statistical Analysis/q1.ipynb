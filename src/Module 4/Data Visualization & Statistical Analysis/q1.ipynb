{
 "cells": [
  {
   "cell_type": "markdown",
   "metadata": {},
   "source": [
    "Title: Histogram of a Single Feature <br>\n",
    "\n",
    "Question 1: Create a histogram for the age feature from a dataset. Interpret what the shape of the histogram tells us about the distribution of the age feature."
   ]
  },
  {
   "cell_type": "code",
   "execution_count": null,
   "metadata": {},
   "outputs": [],
   "source": [
    "# Write your code from here"
   ]
  },
  {
   "cell_type": "markdown",
   "metadata": {},
   "source": [
    "Title: Boxplot for a Single Feature <br>\n",
    "\n",
    "Question 2: Generate a boxplot for the salary feature and identify any outliers."
   ]
  },
  {
   "cell_type": "code",
   "execution_count": 1,
   "metadata": {},
   "outputs": [],
   "source": [
    "# Write your code from here"
   ]
  },
  {
   "cell_type": "markdown",
   "metadata": {},
   "source": [
    "Title: Violin Plot of a Single Feature <br>\n",
    "\n",
    "Question 3: Use a violin plot to visualize the distribution of the height feature and comment on its shape."
   ]
  },
  {
   "cell_type": "code",
   "execution_count": 2,
   "metadata": {},
   "outputs": [],
   "source": [
    "# Write your code from here"
   ]
  },
  {
   "cell_type": "markdown",
   "metadata": {},
   "source": [
    "Title: Scatter Plot to Analyze Relationship<br>\n",
    "\n",
    "Question 4: Create a scatter plot for the weight and height features to determine if there is a trend."
   ]
  },
  {
   "cell_type": "code",
   "execution_count": 3,
   "metadata": {},
   "outputs": [],
   "source": [
    "# Write your code from here"
   ]
  },
  {
   "cell_type": "markdown",
   "metadata": {},
   "source": [
    "Title: Correlation Heatmap<br>\n",
    "\n",
    "Question 5 : Generate a correlation heatmap for a dataset with multiple features (e.g., height ,weight , age ) and explain the correlations observed."
   ]
  },
  {
   "cell_type": "code",
   "execution_count": 4,
   "metadata": {},
   "outputs": [],
   "source": [
    "# Write your code from here"
   ]
  },
  {
   "cell_type": "markdown",
   "metadata": {},
   "source": [
    "Title: Descriptive Statistical Analysis<br>\n",
    "\n",
    "Question 6: Calculate the mean, median, standard deviation, skewness, and kurtosis for the\n",
    "temperature feature and discuss the results."
   ]
  },
  {
   "cell_type": "code",
   "execution_count": 5,
   "metadata": {},
   "outputs": [],
   "source": [
    "# Write your code from here"
   ]
  },
  {
   "cell_type": "markdown",
   "metadata": {},
   "source": [
    "Title: Covariance and Correlation between Two Features<br>\n",
    "\n",
    "Question 7: Compute the covariance and correlation between price and demand in a dataset.\n",
    "Explain what these metrics indicate."
   ]
  },
  {
   "cell_type": "code",
   "execution_count": 7,
   "metadata": {},
   "outputs": [],
   "source": [
    "# Write your code from here"
   ]
  },
  {
   "cell_type": "markdown",
   "metadata": {},
   "source": [
    "Title: Pair Plot for Multivariate Analysis<br>\n",
    "\n",
    "Question 8: Utilize a pair plot on a dataset to explore the relationships and distributions between\n",
    "height , weight , and age . What insights can you glean from this visualization?"
   ]
  },
  {
   "cell_type": "code",
   "execution_count": 8,
   "metadata": {},
   "outputs": [],
   "source": [
    "# Write your code from here"
   ]
  },
  {
   "cell_type": "markdown",
   "metadata": {},
   "source": [
    "Title: Principal Component Analysis (PCA)<br>\n",
    "\n",
    "Question 9 : Apply PCA on a dataset with multiple features (e.g., x1 , x2 , x3 , x4 ) and reduce it to two principal components. Visualize the data in the new feature space."
   ]
  },
  {
   "cell_type": "code",
   "execution_count": 9,
   "metadata": {},
   "outputs": [],
   "source": [
    "# Write your code from here"
   ]
  },
  {
   "cell_type": "markdown",
   "metadata": {},
   "source": [
    "Title: Advanced Pair Plot with Hue Parameter<br>\n",
    "\n",
    "Question 10 : Create a pair plot for height , weight , and age with an added categorical variable gender as the hue to observe different group trends."
   ]
  },
  {
   "cell_type": "code",
   "execution_count": 10,
   "metadata": {},
   "outputs": [],
   "source": [
    "# Write your code from here"
   ]
  }
 ],
 "metadata": {
  "kernelspec": {
   "display_name": "Python 3",
   "language": "python",
   "name": "python3"
  },
  "language_info": {
   "codemirror_mode": {
    "name": "ipython",
    "version": 3
   },
   "file_extension": ".py",
   "mimetype": "text/x-python",
   "name": "python",
   "nbconvert_exporter": "python",
   "pygments_lexer": "ipython3",
   "version": "3.12.5"
  }
 },
 "nbformat": 4,
 "nbformat_minor": 2
}
