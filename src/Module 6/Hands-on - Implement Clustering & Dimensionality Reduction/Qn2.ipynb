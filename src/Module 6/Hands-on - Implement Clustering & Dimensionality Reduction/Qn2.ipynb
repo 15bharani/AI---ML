{
 "cells": [
  {
   "cell_type": "code",
   "execution_count": 1,
   "metadata": {},
   "outputs": [],
   "source": [
    "# Title: Perform PCA for Dimensionality Reduction\n",
    "\n",
    "# Task 1: Reducing Dimensionality of a Breast Cancer Dataset\n",
    "# Objective: Reduce dimensions for visualization or further analysis.\n",
    "# Dataset: Use the \"Breast Cancer Wisconsin\" dataset available in Scikit-learn.\n",
    "\n",
    "# Task 2: Dimensionality Reduction for MNIST Dataset\n",
    "# Objective: Visualize high-dimensional image data in a 2D space.\n",
    "# Dataset: Use the MNIST handwritten digits dataset.\n",
    "\n",
    "# Task 3: Reducing Dimensionality of Wine Quality Data\n",
    "# Objective: Simplify a complex dataset for exploratory analysis.\n",
    "# Dataset: Use the \"Wine Quality\" dataset from UCI Machine Learning Repository."
   ]
  }
 ],
 "metadata": {
  "kernelspec": {
   "display_name": "Python 3",
   "language": "python",
   "name": "python3"
  },
  "language_info": {
   "codemirror_mode": {
    "name": "ipython",
    "version": 3
   },
   "file_extension": ".py",
   "mimetype": "text/x-python",
   "name": "python",
   "nbconvert_exporter": "python",
   "pygments_lexer": "ipython3",
   "version": "3.12.5"
  }
 },
 "nbformat": 4,
 "nbformat_minor": 2
}
