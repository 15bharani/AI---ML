{
 "cells": [
  {
   "cell_type": "code",
   "execution_count": 1,
   "metadata": {},
   "outputs": [],
   "source": [
    "#Title: Perform K-Means Clustering on a Dataset\n",
    "\n",
    "# Task 1: Clustering Customer Data\n",
    "# Objective: Cluster a dataset of customer purchases to identify customer segments.\n",
    "# Dataset: Use a publicly available dataset like the \"Mall Customer Segmentation Dataset.\"\n",
    "\n",
    "# Task 2: Clustering Plant Species\n",
    "# Objective: Group different plant species based on their attributes.\n",
    "# Dataset: Use the \"Iris\" dataset from Scikit-learn.\n",
    "\n",
    "# Task 3: Clustering for Image Compression\n",
    "# Objective: Use K-Means clustering for image compression.\n",
    "# Dataset: Choose a sample image from Scikit-learn’s datasets.\n"
   ]
  }
 ],
 "metadata": {
  "kernelspec": {
   "display_name": "Python 3",
   "language": "python",
   "name": "python3"
  },
  "language_info": {
   "codemirror_mode": {
    "name": "ipython",
    "version": 3
   },
   "file_extension": ".py",
   "mimetype": "text/x-python",
   "name": "python",
   "nbconvert_exporter": "python",
   "pygments_lexer": "ipython3",
   "version": "3.12.5"
  }
 },
 "nbformat": 4,
 "nbformat_minor": 2
}
