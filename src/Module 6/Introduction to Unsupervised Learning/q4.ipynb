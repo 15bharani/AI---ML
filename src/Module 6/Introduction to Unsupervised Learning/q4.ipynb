{
 "cells": [
  {
   "cell_type": "code",
   "execution_count": 5,
   "metadata": {},
   "outputs": [
    {
     "name": "stdout",
     "output_type": "stream",
     "text": [
      "  antecedents consequents  antecedent support  consequent support  support  \\\n",
      "0     (bread)      (milk)                 0.8                 0.6      0.6   \n",
      "1      (milk)     (bread)                 0.6                 0.8      0.6   \n",
      "2     (bread)    (butter)                 0.8                 0.6      0.6   \n",
      "3    (butter)     (bread)                 0.6                 0.8      0.6   \n",
      "\n",
      "   confidence  lift  representativity  leverage  conviction  zhangs_metric  \\\n",
      "0        0.75  1.25               1.0      0.12         1.6            1.0   \n",
      "1        1.00  1.25               1.0      0.12         inf            0.5   \n",
      "2        0.75  1.25               1.0      0.12         1.6            1.0   \n",
      "3        1.00  1.25               1.0      0.12         inf            0.5   \n",
      "\n",
      "   jaccard  certainty  kulczynski  \n",
      "0     0.75      0.375       0.875  \n",
      "1     0.75      1.000       0.875  \n",
      "2     0.75      0.375       0.875  \n",
      "3     0.75      1.000       0.875  \n"
     ]
    },
    {
     "name": "stderr",
     "output_type": "stream",
     "text": [
      "/home/vscode/.local/lib/python3.10/site-packages/mlxtend/frequent_patterns/fpcommon.py:161: DeprecationWarning: DataFrames with non-bool types result in worse computationalperformance and their support might be discontinued in the future.Please use a DataFrame with bool type\n",
      "  warnings.warn(\n"
     ]
    }
   ],
   "source": [
    "# Question 3: Basic Association Rule Learning using Apriori\n",
    "# Description: Use the Apriori algorithm to find association rules in a sample transaction dataset.\n",
    "\n",
    "from mlxtend.frequent_patterns import apriori, association_rules\n",
    "import pandas as pd\n",
    "\n",
    "data = pd.DataFrame({\n",
    "    'milk': [1, 1, 0, 1, 0],\n",
    "    'bread': [1, 1, 1, 1, 0],\n",
    "    'butter': [1, 0, 1, 1, 0],\n",
    "    'jam': [0, 1, 1, 0, 1]\n",
    "})\n",
    "\n",
    "frequent_itemsets = apriori(data, min_support=0.5, use_colnames=True)\n",
    "\n",
    "rules = association_rules(frequent_itemsets, metric=\"lift\", min_threshold=1)\n",
    "print(rules)\n"
   ]
  }
 ],
 "metadata": {
  "kernelspec": {
   "display_name": "Python 3",
   "language": "python",
   "name": "python3"
  },
  "language_info": {
   "codemirror_mode": {
    "name": "ipython",
    "version": 3
   },
   "file_extension": ".py",
   "mimetype": "text/x-python",
   "name": "python",
   "nbconvert_exporter": "python",
   "pygments_lexer": "ipython3",
   "version": "3.10.12"
  }
 },
 "nbformat": 4,
 "nbformat_minor": 2
}
