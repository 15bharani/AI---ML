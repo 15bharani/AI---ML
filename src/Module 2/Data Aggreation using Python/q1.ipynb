{
 "cells": [
  {
   "cell_type": "markdown",
   "metadata": {},
   "source": [
    "Title: Introduction to Data Aggregation\n",
    "<br>\n",
    "Objective: Understand the basic concepts of data aggregation and practice simple aggregation methods."
   ]
  },
  {
   "cell_type": "markdown",
   "metadata": {},
   "source": [
    "Task 1: Calculating Sum\n",
    "<br>\n",
    "Task: Use a numerical dataset containing columns like 'sales', 'profit', and 'quantity'.\n",
    "Calculate the total sales for the dataset.\n",
    "<br>\n",
    "Steps:<br>\n",
    "1. Load the dataset using pandas.<br>\n",
    "2. Apply the .sum() function on the 'sales' column.<br>\n",
    "3. Verify the result by manually summing a portion of the 'sales' values."
   ]
  },
  {
   "cell_type": "code",
   "execution_count": 1,
   "metadata": {},
   "outputs": [
    {
     "name": "stdout",
     "output_type": "stream",
     "text": [
      "Total Sales: 14700\n"
     ]
    }
   ],
   "source": [
    "import pandas as pd\n",
    "\n",
    "# Create a mock dataset\n",
    "data = {\n",
    "    'sales': [1500, 2300, 1800, 2500, 2200, 2000, 2400],\n",
    "    'profit': [500, 700, 600, 800, 700, 650, 750],\n",
    "    'quantity': [50, 70, 60, 80, 75, 65, 85]\n",
    "}\n",
    "\n",
    "# Convert the dictionary into a DataFrame\n",
    "df = pd.DataFrame(data)\n",
    "\n",
    "# Calculate total sales\n",
    "total_sales = df['sales'].sum()\n",
    "\n",
    "# Print total sales\n",
    "print(f\"Total Sales: {total_sales}\")\n"
   ]
  },
  {
   "cell_type": "markdown",
   "metadata": {},
   "source": [
    "Task 2: Calculating Mean<br>\n",
    "\n",
    "Task: Calculate the average quantity sold.<br>\n",
    "Steps:<br>\n",
    "4. Load the dataset.<br>\n",
    "5. Use the .mean() function on the 'quantity' column to find the average.<br>\n",
    "6. Double-check by calculating the mean manually on a small selection."
   ]
  },
  {
   "cell_type": "code",
   "execution_count": 2,
   "metadata": {},
   "outputs": [
    {
     "name": "stdout",
     "output_type": "stream",
     "text": [
      "Average Quantity Sold: 69.28571428571429\n",
      "Manual Mean of Selection: 60.0\n"
     ]
    }
   ],
   "source": [
    "import pandas as pd\n",
    "\n",
    "# Create a mock dataset\n",
    "data = {\n",
    "    'sales': [1500, 2300, 1800, 2500, 2200, 2000, 2400],\n",
    "    'profit': [500, 700, 600, 800, 700, 650, 750],\n",
    "    'quantity': [50, 70, 60, 80, 75, 65, 85]\n",
    "}\n",
    "\n",
    "# Convert the dictionary into a DataFrame\n",
    "df = pd.DataFrame(data)\n",
    "\n",
    "# Calculate the mean of the 'quantity' column\n",
    "average_quantity = df['quantity'].mean()\n",
    "\n",
    "# Print the average quantity sold\n",
    "print(f\"Average Quantity Sold: {average_quantity}\")\n",
    "\n",
    "# Double-check by manually calculating the mean on a small selection of the 'quantity' values\n",
    "small_selection = [50, 70, 60]  # Example selection\n",
    "manual_mean = sum(small_selection) / len(small_selection)\n",
    "print(f\"Manual Mean of Selection: {manual_mean}\")\n"
   ]
  }
 ],
 "metadata": {
  "kernelspec": {
   "display_name": "Python 3",
   "language": "python",
   "name": "python3"
  },
  "language_info": {
   "codemirror_mode": {
    "name": "ipython",
    "version": 3
   },
   "file_extension": ".py",
   "mimetype": "text/x-python",
   "name": "python",
   "nbconvert_exporter": "python",
   "pygments_lexer": "ipython3",
   "version": "3.10.12"
  }
 },
 "nbformat": 4,
 "nbformat_minor": 2
}
