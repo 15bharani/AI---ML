{
 "cells": [
  {
   "cell_type": "markdown",
   "metadata": {},
   "source": [
    "Pivot Tables & Advanced Aggregations<br>\n",
    "Objective: Utilize pivot tables for complex aggregation tasks."
   ]
  },
  {
   "cell_type": "markdown",
   "metadata": {},
   "source": [
    "Task 1: Creating a Basic Pivot Table<br>\n",
    "Task: Create a pivot table that shows the total sales for each 'category' across 'years'.<br>\n",
    "Steps:<br>\n",
    "19. Use pandas pivot_table() function.<br>\n",
    "20. Set index='year' and columns='category' .<br>\n",
    "21. Define the value parameter as 'sales' and aggregation function as np.sum ."
   ]
  },
  {
   "cell_type": "code",
   "execution_count": 1,
   "metadata": {},
   "outputs": [],
   "source": [
    "# Write your code from here"
   ]
  },
  {
   "cell_type": "markdown",
   "metadata": {},
   "source": [
    "Task 2: Pivot Table with Multiple Aggregations<br>\n",
    "\n",
    "Task: Generate a pivot table with both mean and max of 'profit' for 'category' each month.<br>\n",
    "Steps:<br>\n",
    "22. Create a pivot table.<br>\n",
    "23. Use aggfunc=['mean', 'max'] .<br>\n",
    "24. Analyze the pivot table output."
   ]
  },
  {
   "cell_type": "code",
   "execution_count": 2,
   "metadata": {},
   "outputs": [],
   "source": [
    "# Write your code from here"
   ]
  },
  {
   "cell_type": "markdown",
   "metadata": {},
   "source": [
    "Task 3: Advanced Pivot Table with Margins<br>\n",
    "\n",
    "Task: Create a pivot table that includes subtotals for each 'region' and 'category'.<br>\n",
    "Steps:<br>\n",
    "25. Use pivot_table() with margins=True .<br>\n",
    "26. Set the index and columns appropriately.<br>\n",
    "27. Validate subtotal correctness by summing manually."
   ]
  },
  {
   "cell_type": "code",
   "execution_count": 3,
   "metadata": {},
   "outputs": [],
   "source": [
    "# Write your code from here"
   ]
  }
 ],
 "metadata": {
  "kernelspec": {
   "display_name": "Python 3",
   "language": "python",
   "name": "python3"
  },
  "language_info": {
   "codemirror_mode": {
    "name": "ipython",
    "version": 3
   },
   "file_extension": ".py",
   "mimetype": "text/x-python",
   "name": "python",
   "nbconvert_exporter": "python",
   "pygments_lexer": "ipython3",
   "version": "3.12.5"
  }
 },
 "nbformat": 4,
 "nbformat_minor": 2
}
