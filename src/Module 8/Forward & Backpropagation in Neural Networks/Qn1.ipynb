{
 "cells": [
  {
   "cell_type": "code",
   "execution_count": 1,
   "metadata": {},
   "outputs": [],
   "source": [
    "# Title: Matrix Operations in Neural Networks\n",
    "\n",
    "# Task 1: Matrix Multiplication (Input and Weights Matrix)\n",
    "# Given an input vector ( X = \\begin{bmatrix} 0.5 & 1.0 \\end{bmatrix} ) and weight matrix ( W = \\begin{bmatrix} 0.2 & 0.3 \\ 0.4 & 0.1 \\end{bmatrix} ), calculate the weighted sum.\n",
    "\n",
    "# Task 2: Adding Bias Vector\n",
    "# Use the result from Example 1 and add a bias vector ( B = \\begin{bmatrix} 0.1 & 0.2 \\end{bmatrix} ).\n",
    "\n",
    "# Task 3: Transpose Operation\n",
    "# Find the transpose of the weight matrix ( W ) from Example 1.\n",
    "\n",
    "\n",
    "\n",
    "# Title: Activation Functions\n",
    "\n",
    "# Task 1: Sigmoid Function\n",
    "# Calculate the sigmoid activation for ( z_1 = 0.7 ) from the previous example.\n",
    "\n",
    "# Example 2: ReLU Function\n",
    "# Calculate the ReLU activation for ( z_2 = 0.55 ).\n",
    "\n",
    "# Example 3: Softmax Function\n",
    "# For a vector ( Z = \\begin{bmatrix} 1.0 & 0.5 & 0.2 \\end{bmatrix} ), calculate the softmax.\n"
   ]
  }
 ],
 "metadata": {
  "kernelspec": {
   "display_name": "Python 3",
   "language": "python",
   "name": "python3"
  },
  "language_info": {
   "codemirror_mode": {
    "name": "ipython",
    "version": 3
   },
   "file_extension": ".py",
   "mimetype": "text/x-python",
   "name": "python",
   "nbconvert_exporter": "python",
   "pygments_lexer": "ipython3",
   "version": "3.12.5"
  }
 },
 "nbformat": 4,
 "nbformat_minor": 2
}
