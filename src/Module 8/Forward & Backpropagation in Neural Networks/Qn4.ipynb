{
 "cells": [
  {
   "cell_type": "code",
   "execution_count": 1,
   "metadata": {},
   "outputs": [],
   "source": [
    "# Optimizers\n",
    "\n",
    "# Task 1: Adam Optimizer Overview\n",
    "# Given parameter ( \\theta = 0.5 ), use Adam to adaptively update this parameter. Assume ( m_t = 0, v_t = 0, \\beta_1 = 0.9, \\beta_2 = 0.999, \\epsilon = 10^{-8} ).\n",
    "\n",
    "# Task 2: Exponential Moving Averages (EMA)\n",
    "# Calculate EMA over gradients with (\\beta_1 = 0.9) for (g_1 = -0.5) and (g_2 = 0.2).\n",
    "    \n",
    "# Task 3: Adam Update Rule\n",
    "# Perform an Adam update for ( t=2 ), where (g_1 = -0.5), (g_2 = 0.2), with given ( \\beta_1 ) and ( \\beta_2 ).\n"
   ]
  }
 ],
 "metadata": {
  "kernelspec": {
   "display_name": "Python 3",
   "language": "python",
   "name": "python3"
  },
  "language_info": {
   "codemirror_mode": {
    "name": "ipython",
    "version": 3
   },
   "file_extension": ".py",
   "mimetype": "text/x-python",
   "name": "python",
   "nbconvert_exporter": "python",
   "pygments_lexer": "ipython3",
   "version": "3.12.5"
  }
 },
 "nbformat": 4,
 "nbformat_minor": 2
}
