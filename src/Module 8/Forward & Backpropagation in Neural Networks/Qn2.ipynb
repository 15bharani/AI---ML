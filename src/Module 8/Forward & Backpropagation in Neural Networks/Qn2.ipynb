{
 "cells": [
  {
   "cell_type": "code",
   "execution_count": 1,
   "metadata": {},
   "outputs": [],
   "source": [
    "# Title: Forward Propagation\n",
    "\n",
    "# Example 1: Weighted Sum Calculation\n",
    "# Using inputs ( X = \\begin{bmatrix} 0.5 & 0.9 \\end{bmatrix} ) and weights ( W =\n",
    "# \\begin{bmatrix} 0.6 & 0.8 \\end{bmatrix} ), calculate the weighted sum.\n",
    "\n",
    "# Example 2: Activation Calculation (with Tanh)\n",
    "# Calculate the tanh activation for the weighted sum from Example 1.\n",
    "    \n",
    "# Example 3: Output Calculation (with Softmax)\n",
    "# For outputs ( Z = \\begin{bmatrix} 2.0 & 1.0 \\end{bmatrix} ), calculate the softmax.\n",
    "\n"
   ]
  }
 ],
 "metadata": {
  "kernelspec": {
   "display_name": "Python 3",
   "language": "python",
   "name": "python3"
  },
  "language_info": {
   "codemirror_mode": {
    "name": "ipython",
    "version": 3
   },
   "file_extension": ".py",
   "mimetype": "text/x-python",
   "name": "python",
   "nbconvert_exporter": "python",
   "pygments_lexer": "ipython3",
   "version": "3.12.5"
  }
 },
 "nbformat": 4,
 "nbformat_minor": 2
}
