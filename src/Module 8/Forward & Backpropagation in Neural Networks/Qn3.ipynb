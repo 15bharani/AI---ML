{
 "cells": [
  {
   "cell_type": "code",
   "execution_count": 1,
   "metadata": {},
   "outputs": [],
   "source": [
    "# Title: Backpropagation\n",
    "\n",
    "# Task 1: Gradient Descent Calculation\n",
    "# Given a loss function ( L = (y - \\hat{y})^2 ), find the gradient with respect to a single parameter ( \\theta ).\n",
    "\n",
    "# Task 2: Loss Function\n",
    "# Assume true label ( y = 1 ) and prediction ( \\hat{y} = 0.6 ). Calculate the mean squared error (MSE).\n",
    "\n",
    "# Task 3: Optimization with Stochastic Gradient Descent (SGD)\n",
    "# Perform one step of SGD update for parameter ( \\theta = 0.5 ) with a learning rate of 0.1 and gradient from Example 1, where (\\frac{\\partial L}{\\partial \\theta} = -0.32).\n",
    "                                                   \n"
   ]
  }
 ],
 "metadata": {
  "kernelspec": {
   "display_name": "Python 3",
   "language": "python",
   "name": "python3"
  },
  "language_info": {
   "codemirror_mode": {
    "name": "ipython",
    "version": 3
   },
   "file_extension": ".py",
   "mimetype": "text/x-python",
   "name": "python",
   "nbconvert_exporter": "python",
   "pygments_lexer": "ipython3",
   "version": "3.12.5"
  }
 },
 "nbformat": 4,
 "nbformat_minor": 2
}
