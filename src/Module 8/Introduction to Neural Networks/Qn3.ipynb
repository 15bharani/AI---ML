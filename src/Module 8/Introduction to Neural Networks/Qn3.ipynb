{
 "cells": [
  {
   "cell_type": "code",
   "execution_count": 1,
   "metadata": {},
   "outputs": [],
   "source": [
    "# Biological VS Artificial Neural Networks\n",
    "\n",
    "# Task 1: Human Brain vs Digital Neural Network\n",
    "# Task: Compare the structure and functionality of a biological neural network with that of an artificial one.\n",
    "# Exercise: List three similarities and three differences between them.\n",
    "\n",
    "# Task 2: Signal Processing\n",
    "# Task: Understand how signals are processed in both biological neurons and artificial neurons.\n",
    "# Exercise: Draw a flowchart of how information travels through both types of networks.\n",
    "\n",
    "# Task 3: Learning Mechanisms\n",
    "# Task: Examine the learning process in natural and artificial networks.\n",
    "# Exercise: Create a table comparing synaptic plasticity with weight adjustments in artificial networks."
   ]
  }
 ],
 "metadata": {
  "kernelspec": {
   "display_name": "Python 3",
   "language": "python",
   "name": "python3"
  },
  "language_info": {
   "codemirror_mode": {
    "name": "ipython",
    "version": 3
   },
   "file_extension": ".py",
   "mimetype": "text/x-python",
   "name": "python",
   "nbconvert_exporter": "python",
   "pygments_lexer": "ipython3",
   "version": "3.12.5"
  }
 },
 "nbformat": 4,
 "nbformat_minor": 2
}
