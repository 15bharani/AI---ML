{
 "cells": [
  {
   "cell_type": "code",
   "execution_count": 1,
   "metadata": {},
   "outputs": [],
   "source": [
    "#Title: Difference between Artificial Intelligence, Machine Learning, and Deep Learning\n",
    "\n",
    "# 1. Task 1: AI in Chess\n",
    "# Task: Examine how an AI chess engine like Stockfish makes moves.\n",
    "# Exercise: Observe an AI playing against itself and note the decision-making process.\n",
    "\n",
    "# 2. Task 2: Training a Linear Regression Model (Machine Learning)\n",
    "# Task: Train a simple linear regression model to understand the principles of machine learning.\n",
    "# Exercise: Plot a line of best fit using historical data to predict future outcomes.\n",
    "\n",
    "# 3. Task 3: Image Classification with CNN (Deep Learning)\n",
    "# Task: Use a convolutional neural network to classify images into categories.\n",
    "# Exercise: Feed images into a CNN and observe how it classifies each image."
   ]
  }
 ],
 "metadata": {
  "kernelspec": {
   "display_name": "Python 3",
   "language": "python",
   "name": "python3"
  },
  "language_info": {
   "codemirror_mode": {
    "name": "ipython",
    "version": 3
   },
   "file_extension": ".py",
   "mimetype": "text/x-python",
   "name": "python",
   "nbconvert_exporter": "python",
   "pygments_lexer": "ipython3",
   "version": "3.12.5"
  }
 },
 "nbformat": 4,
 "nbformat_minor": 2
}
