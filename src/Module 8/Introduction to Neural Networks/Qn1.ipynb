{
 "cells": [
  {
   "cell_type": "code",
   "execution_count": 1,
   "metadata": {},
   "outputs": [],
   "source": [
    "#Title: Neural Networks\n",
    "\n",
    "# 1. Task 1: Digit Recognition with a Simple Neural Network\n",
    "# Task: Understand how a neural network identifies handwritten digits.\n",
    "# Exercise: Input an image of a handwritten digit into a pre-trained simple feedforward neural network and observe the output prediction.\n",
    "\n",
    "# 2. Task 2: Predicting House Prices\n",
    "# Task: Use a neural network to predict house prices based on features like location, size, and number of rooms.\n",
    "# Exercise: Experiment with different input data to observe how the network's predictions change.\n",
    "\n",
    "# 3. Task 3: Language Translation\n",
    "# Task: A neural network powers language translation tools to convert text from one language to another.\n",
    "# Exercise: Provide a sentence in English and get the translated version in another language using a pre-trained translation model."
   ]
  }
 ],
 "metadata": {
  "kernelspec": {
   "display_name": "Python 3",
   "language": "python",
   "name": "python3"
  },
  "language_info": {
   "codemirror_mode": {
    "name": "ipython",
    "version": 3
   },
   "file_extension": ".py",
   "mimetype": "text/x-python",
   "name": "python",
   "nbconvert_exporter": "python",
   "pygments_lexer": "ipython3",
   "version": "3.12.5"
  }
 },
 "nbformat": 4,
 "nbformat_minor": 2
}
