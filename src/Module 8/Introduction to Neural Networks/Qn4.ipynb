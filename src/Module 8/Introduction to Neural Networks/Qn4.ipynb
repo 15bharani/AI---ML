{
 "cells": [
  {
   "cell_type": "code",
   "execution_count": 2,
   "metadata": {},
   "outputs": [],
   "source": [
    "# Title: Basic Structure of a Neural Network\n",
    "\n",
    "# Neurons, Weights, Biases\n",
    "\n",
    "# Task 1: Neuron Calculation\n",
    "# Task: Calculate the output of a single artificial neuron given specific inputs, weights, and bias.\n",
    "# Exercise: Perform this calculation for a given set of inputs and verify your result.\n",
    "\n",
    "# Task 2: Adjusting Weights\n",
    "# Task: Learn how adjusting weights affects the output of a neural network.\n",
    "# Exercise: Alter the weights and observe the change in the final output.\n",
    "\n",
    "# Task 3 : Role of Bias\n",
    "# Task: Understand the impact of bias on a neuron's output.\n",
    "# Exercise: Add different bias values to a neuron and note the effect on the network's results.\n",
    "\n",
    "\n",
    "# Input Layer, Hidden Layers, Output Layer\n",
    "\n",
    "# Task 1: Network Structure Visualization\n",
    "# Task: Draw the basic structure of a neural network with input, hidden, and output layers.\n",
    "# Exercise: Label each layer and state its function.\n",
    "\n",
    "# Task 2: Information Flow in Network Layers\n",
    "# Task: Follow and describe the flow of data from input to output across layers.\n",
    "# Exercise: Map out the flow path and indicate any transformations that occur.\n",
    "\n",
    "# Task 3: Number of Layers Impact\n",
    "# Task: Explore how the number of layers in a network affects its complexity and performance.\n",
    "# Exercise: Experiment with networks of different layer counts and compare their performance on a task."
   ]
  }
 ],
 "metadata": {
  "kernelspec": {
   "display_name": "Python 3",
   "language": "python",
   "name": "python3"
  },
  "language_info": {
   "codemirror_mode": {
    "name": "ipython",
    "version": 3
   },
   "file_extension": ".py",
   "mimetype": "text/x-python",
   "name": "python",
   "nbconvert_exporter": "python",
   "pygments_lexer": "ipython3",
   "version": "3.12.5"
  }
 },
 "nbformat": 4,
 "nbformat_minor": 2
}
