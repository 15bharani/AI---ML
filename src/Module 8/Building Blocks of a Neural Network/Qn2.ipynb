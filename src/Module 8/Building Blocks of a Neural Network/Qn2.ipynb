{
 "cells": [
  {
   "cell_type": "code",
   "execution_count": 1,
   "metadata": {},
   "outputs": [],
   "source": [
    "# Title: Understanding Hyperparameters\n",
    "\n",
    "# Task 1: Learning Rate\n",
    "# Set up a simple neural network for a classification task.\n",
    "# Experiment with a learning rate of 0.01, 0.001, and 0.0001.\n",
    "# Note the impact on the speed of convergence and training accuracy.\n",
    "\n",
    "# Task 2: Number of Neurons\n",
    "\n",
    "# Start with 64 neurons in a hidden layer.\n",
    "# Train the model, then try increasing to 128 and decreasing to 32 neurons.\n",
    "# Evaluate how the model’s performance changes with these configurations.\n",
    "\n",
    "\n",
    "# Task 3: Batch Size and Number of Epochs\n",
    "\n",
    "# Use batch sizes of 16, 64, and 256 in separate experiments.\n",
    "# Train the network for 10 epochs initially.\n",
    "# Observe how these settings affect the training time and model accuracy over multiple epochs.\n"
   ]
  }
 ],
 "metadata": {
  "kernelspec": {
   "display_name": "Python 3",
   "language": "python",
   "name": "python3"
  },
  "language_info": {
   "codemirror_mode": {
    "name": "ipython",
    "version": 3
   },
   "file_extension": ".py",
   "mimetype": "text/x-python",
   "name": "python",
   "nbconvert_exporter": "python",
   "pygments_lexer": "ipython3",
   "version": "3.12.5"
  }
 },
 "nbformat": 4,
 "nbformat_minor": 2
}
