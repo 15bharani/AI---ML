{
 "cells": [
  {
   "cell_type": "code",
   "execution_count": 1,
   "metadata": {},
   "outputs": [],
   "source": [
    "# Title: Choosing the Right Neural Network Architecture\n",
    "\n",
    "\n",
    "# Task 1: Shallow vs Deep Networks\n",
    "\n",
    "# Create a shallow network with one hidden layer.\n",
    "# Train using the same dataset with a deep network having three hidden layers.\n",
    "# Compare their training and test accuracy to understand scenarios where deep networks perform better.\n",
    "\n",
    "# Task 2: Overfitting vs Underfitting\n",
    "\n",
    "# Train a model with too few neurons and epochs (underfit).\n",
    "# Increase the model complexity by adding layers and neurons (overfit).\n",
    "# Use validation data to identify the setup that balances training and validation accuracy.\n",
    "\n",
    "\n",
    "# Task 3: Using Dropout Regularization\n",
    "\n",
    "# Implement a network without dropout.\n",
    "# Add a dropout layer with a rate of 0.5 to the hidden layers.\n",
    "# Observe how dropout helps in preventing overfitting and improves generalization on unseen data.\n",
    "\n",
    "\n"
   ]
  }
 ],
 "metadata": {
  "kernelspec": {
   "display_name": "Python 3",
   "language": "python",
   "name": "python3"
  },
  "language_info": {
   "codemirror_mode": {
    "name": "ipython",
    "version": 3
   },
   "file_extension": ".py",
   "mimetype": "text/x-python",
   "name": "python",
   "nbconvert_exporter": "python",
   "pygments_lexer": "ipython3",
   "version": "3.12.5"
  }
 },
 "nbformat": 4,
 "nbformat_minor": 2
}
