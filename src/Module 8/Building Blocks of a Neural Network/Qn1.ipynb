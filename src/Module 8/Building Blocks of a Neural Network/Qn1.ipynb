{
 "cells": [
  {
   "cell_type": "code",
   "execution_count": 1,
   "metadata": {},
   "outputs": [],
   "source": [
    "# Types of Layers in Neural Networks\n",
    "\n",
    "# Task 1: Learning Rate\n",
    "\n",
    "# 1. Input Layer:\n",
    "# Use a dataset of handwritten digits (like MNIST).\n",
    "# Define an input layer that matches the size of the image (28x28 pixels).\n",
    "# Observe how the input layer takes in raw pixel values.\n",
    "\n",
    "# 2. Hidden Layers:\n",
    "# Add a hidden layer with 128 neurons.\n",
    "# Implement an activation function such as ReLU.\n",
    "# Adjust the number of neurons and observe how this affects the model's ability to learn from features.\n",
    "\n",
    "# 3. Output Layer:\n",
    "# Use a Softmax output layer with 10 neurons (one for each digit).\n",
    "# Train the model and observe how the output layer provides the probability distribution over the class labels."
   ]
  }
 ],
 "metadata": {
  "kernelspec": {
   "display_name": "Python 3",
   "language": "python",
   "name": "python3"
  },
  "language_info": {
   "codemirror_mode": {
    "name": "ipython",
    "version": 3
   },
   "file_extension": ".py",
   "mimetype": "text/x-python",
   "name": "python",
   "nbconvert_exporter": "python",
   "pygments_lexer": "ipython3",
   "version": "3.12.5"
  }
 },
 "nbformat": 4,
 "nbformat_minor": 2
}
