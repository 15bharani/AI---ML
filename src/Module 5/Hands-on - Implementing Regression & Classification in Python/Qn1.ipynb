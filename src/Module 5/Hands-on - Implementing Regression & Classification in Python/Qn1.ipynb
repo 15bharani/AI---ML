{
 "cells": [
  {
   "cell_type": "code",
   "execution_count": 1,
   "metadata": {},
   "outputs": [],
   "source": [
    "# Title: Train a Linear Regression Model\n",
    "\n",
    "# Task 1: Predicting House Prices\n",
    "# Dataset: Use a dataset that contains various features of houses such as square footage, number of bedrooms, and age of the house.\n",
    "# Task 2: Predicting Car Mileage (MPG)\n",
    "# Dataset: Use a dataset where features include horsepower, weight, and model year of cars.\n",
    "# Task 3: Predicting Student's Scores'\n",
    "# Dataset: Use a dataset that contains study hours and corresponding student test scores.\n",
    "\n"
   ]
  }
 ],
 "metadata": {
  "kernelspec": {
   "display_name": "Python 3",
   "language": "python",
   "name": "python3"
  },
  "language_info": {
   "codemirror_mode": {
    "name": "ipython",
    "version": 3
   },
   "file_extension": ".py",
   "mimetype": "text/x-python",
   "name": "python",
   "nbconvert_exporter": "python",
   "pygments_lexer": "ipython3",
   "version": "3.12.5"
  }
 },
 "nbformat": 4,
 "nbformat_minor": 2
}
