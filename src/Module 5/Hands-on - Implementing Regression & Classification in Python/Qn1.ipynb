{
 "cells": [
  {
   "cell_type": "markdown",
   "metadata": {},
   "source": [
    "Title: Train a Linear Regression Model"
   ]
  },
  {
   "cell_type": "markdown",
   "metadata": {},
   "source": [
    "Task 1: Predicting House Prices<br>\n",
    "Dataset: Use a dataset that contains various features of houses such as square footage, number of bedrooms, and age of the house."
   ]
  },
  {
   "cell_type": "code",
   "execution_count": 10,
   "metadata": {},
   "outputs": [
    {
     "name": "stdout",
     "output_type": "stream",
     "text": [
      "Task 1 - House Price Prediction\n",
      "Mean Squared Error: 0.0\n",
      "Predicted Prices: [320000.]\n"
     ]
    }
   ],
   "source": [
    "import pandas as pd\n",
    "from sklearn.linear_model import LinearRegression\n",
    "from sklearn.model_selection import train_test_split\n",
    "from sklearn.metrics import mean_squared_error\n",
    "\n",
    "data1 = {\n",
    "    'square_footage': [1500, 1600, 1700, 1800, 1900],\n",
    "    'bedrooms': [3, 3, 3, 4, 4],\n",
    "    'age': [10, 15, 20, 5, 8],\n",
    "    'price': [300000, 320000, 340000, 360000, 380000]\n",
    "}\n",
    "\n",
    "df1 = pd.DataFrame(data1)\n",
    "X1 = df1[['square_footage', 'bedrooms', 'age']]\n",
    "y1 = df1['price']\n",
    "X1_train, X1_test, y1_train, y1_test = train_test_split(X1, y1, test_size=0.2, random_state=42)\n",
    "model1 = LinearRegression()\n",
    "model1.fit(X1_train, y1_train)\n",
    "y1_pred = model1.predict(X1_test)\n",
    "\n",
    "print(\"Task 1 - House Price Prediction\")\n",
    "print(\"Mean Squared Error:\", mean_squared_error(y1_test, y1_pred))\n",
    "print(\"Predicted Prices:\", y1_pred)\n"
   ]
  },
  {
   "cell_type": "markdown",
   "metadata": {},
   "source": [
    "Task 2: Predicting Car Mileage (MPG)<br>\n",
    "Dataset: Use a dataset where features include horsepower, weight, and model year of cars."
   ]
  },
  {
   "cell_type": "code",
   "execution_count": 11,
   "metadata": {},
   "outputs": [
    {
     "name": "stdout",
     "output_type": "stream",
     "text": [
      "\n",
      "Task 2 - Car Mileage Prediction\n",
      "Mean Squared Error: 2.3670604097875856\n",
      "Predicted MPG: [16.5385254]\n"
     ]
    }
   ],
   "source": [
    "data2 = {\n",
    "    'horsepower': [130, 165, 150, 140, 198],\n",
    "    'weight': [3504, 3693, 3436, 3433, 4341],\n",
    "    'model_year': [70, 70, 70, 70, 70],\n",
    "    'mpg': [18, 15, 18, 16, 15]\n",
    "}\n",
    "\n",
    "df2 = pd.DataFrame(data2)\n",
    "X2 = df2[['horsepower', 'weight', 'model_year']]\n",
    "y2 = df2['mpg']\n",
    "X2_train, X2_test, y2_train, y2_test = train_test_split(X2, y2, test_size=0.2, random_state=42)\n",
    "model2 = LinearRegression()\n",
    "model2.fit(X2_train, y2_train)\n",
    "y2_pred = model2.predict(X2_test)\n",
    "\n",
    "print(\"\\nTask 2 - Car Mileage Prediction\")\n",
    "print(\"Mean Squared Error:\", mean_squared_error(y2_test, y2_pred))\n",
    "print(\"Predicted MPG:\", y2_pred)\n"
   ]
  },
  {
   "cell_type": "markdown",
   "metadata": {},
   "source": [
    "Task 3: Predicting Student's Scores'\n",
    "Dataset: Use a dataset that contains study hours and corresponding student test scores."
   ]
  },
  {
   "cell_type": "code",
   "execution_count": 12,
   "metadata": {},
   "outputs": [
    {
     "name": "stdout",
     "output_type": "stream",
     "text": [
      "\n",
      "Task 3 - Student Score Prediction\n",
      "Mean Squared Error: 6.2499999999999964\n",
      "Predicted Scores: [29.5 61.5]\n"
     ]
    }
   ],
   "source": [
    "data3 = {\n",
    "    'study_hours': [1.5, 2.0, 2.5, 3.0, 3.5, 4.0, 4.5, 5.0],\n",
    "    'score': [20, 30, 35, 50, 55, 65, 70, 75]\n",
    "}\n",
    "\n",
    "df3 = pd.DataFrame(data3)\n",
    "X3 = df3[['study_hours']]\n",
    "y3 = df3['score']\n",
    "X3_train, X3_test, y3_train, y3_test = train_test_split(X3, y3, test_size=0.2, random_state=42)\n",
    "model3 = LinearRegression()\n",
    "model3.fit(X3_train, y3_train)\n",
    "y3_pred = model3.predict(X3_test)\n",
    "\n",
    "print(\"\\nTask 3 - Student Score Prediction\")\n",
    "print(\"Mean Squared Error:\", mean_squared_error(y3_test, y3_pred))\n",
    "print(\"Predicted Scores:\", y3_pred)\n"
   ]
  }
 ],
 "metadata": {
  "kernelspec": {
   "display_name": "Python 3",
   "language": "python",
   "name": "python3"
  },
  "language_info": {
   "codemirror_mode": {
    "name": "ipython",
    "version": 3
   },
   "file_extension": ".py",
   "mimetype": "text/x-python",
   "name": "python",
   "nbconvert_exporter": "python",
   "pygments_lexer": "ipython3",
   "version": "3.10.12"
  }
 },
 "nbformat": 4,
 "nbformat_minor": 2
}
