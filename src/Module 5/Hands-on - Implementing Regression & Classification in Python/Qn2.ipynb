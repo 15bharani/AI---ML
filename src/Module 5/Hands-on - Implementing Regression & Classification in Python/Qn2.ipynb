{
 "cells": [
  {
   "cell_type": "code",
   "execution_count": 1,
   "metadata": {},
   "outputs": [],
   "source": [
    "\n",
    "# Title: Train a Classification Model (Logistic Regression)\n",
    "\n",
    "# Task 1: Email Spam Detection\n",
    "# Dataset: Use a dataset containing labeled emails as spam or not-spam, with features such as word frequency.\n",
    "# Task 2: Predicting Tumor Malignancy\n",
    "# Dataset: Use a dataset that contains features from tumor datasets such as size and shape indicators.\n",
    "# Task 3: Wine Quality Classification\n",
    "# Dataset: Use a dataset that contains chemical properties of wine along with a quality rating. Treat quality as a binary classification (high vs. low).\n",
    "\n"
   ]
  }
 ],
 "metadata": {
  "kernelspec": {
   "display_name": "Python 3",
   "language": "python",
   "name": "python3"
  },
  "language_info": {
   "codemirror_mode": {
    "name": "ipython",
    "version": 3
   },
   "file_extension": ".py",
   "mimetype": "text/x-python",
   "name": "python",
   "nbconvert_exporter": "python",
   "pygments_lexer": "ipython3",
   "version": "3.12.5"
  }
 },
 "nbformat": 4,
 "nbformat_minor": 2
}
