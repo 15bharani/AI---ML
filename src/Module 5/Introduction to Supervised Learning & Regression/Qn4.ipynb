{
 "cells": [
  {
   "cell_type": "code",
   "execution_count": 1,
   "metadata": {},
   "outputs": [],
   "source": [
    "# Title: Regression Models\n",
    "\n",
    "# Polynomial Regression\n",
    "\n",
    "# Task 1: Apply polynomial regression to a dataset showing the relationship between age and income.\n",
    "# Task 2: Explore and visualize a higher-degree polynomial fitting compared to a simple linear regression.\n",
    "# Task 3: Dataset with cyclical patterns such as tides or circadian cycles."
   ]
  }
 ],
 "metadata": {
  "kernelspec": {
   "display_name": "Python 3",
   "language": "python",
   "name": "python3"
  },
  "language_info": {
   "codemirror_mode": {
    "name": "ipython",
    "version": 3
   },
   "file_extension": ".py",
   "mimetype": "text/x-python",
   "name": "python",
   "nbconvert_exporter": "python",
   "pygments_lexer": "ipython3",
   "version": "3.12.5"
  }
 },
 "nbformat": 4,
 "nbformat_minor": 2
}
