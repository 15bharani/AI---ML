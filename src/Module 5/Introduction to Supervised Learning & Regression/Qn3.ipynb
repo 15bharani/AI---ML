{
 "cells": [
  {
   "cell_type": "markdown",
   "metadata": {},
   "source": [
    "Title: Regression Models"
   ]
  },
  {
   "cell_type": "markdown",
   "metadata": {},
   "source": [
    "Linear Regression (Simple & Multiple)"
   ]
  },
  {
   "cell_type": "markdown",
   "metadata": {},
   "source": [
    "Task 1: Differentiate between a labeled dataset of image classifications and an unlabeled dataset for clustering customer segments."
   ]
  },
  {
   "cell_type": "code",
   "execution_count": 2,
   "metadata": {},
   "outputs": [
    {
     "name": "stdout",
     "output_type": "stream",
     "text": [
      "Labeled Image Classification Dataset:\n",
      "   ImageID    PixelData Label\n",
      "0      101  img_101.jpg   Cat\n",
      "1      102  img_102.jpg   Dog\n",
      "2      103  img_103.jpg   Cat\n",
      "3      104  img_104.jpg   Dog\n",
      "\n",
      "Unlabeled Customer Segmentation Dataset:\n",
      "   CustomerID  AnnualIncome  SpendingScore\n",
      "0           1         45000             39\n",
      "1           2         54000             81\n",
      "2           3         32000              6\n",
      "3           4         72000             77\n"
     ]
    }
   ],
   "source": [
    "# Write your code here\n",
    "import pandas as pd\n",
    "\n",
    "# Labeled dataset example: Image classifications (Supervised Learning)\n",
    "# Each image is associated with a label like 'cat', 'dog', etc.\n",
    "labeled_images = pd.DataFrame({\n",
    "    \"ImageID\": [101, 102, 103, 104],\n",
    "    \"PixelData\": [\"img_101.jpg\", \"img_102.jpg\", \"img_103.jpg\", \"img_104.jpg\"],\n",
    "    \"Label\": [\"Cat\", \"Dog\", \"Cat\", \"Dog\"]\n",
    "})\n",
    "\n",
    "print(\"Labeled Image Classification Dataset:\")\n",
    "print(labeled_images)\n",
    "\n",
    "# Unlabeled dataset example: Customer data used for clustering (Unsupervised Learning)\n",
    "# No labels, used to find patterns or groupings.\n",
    "unlabeled_customers = pd.DataFrame({\n",
    "    \"CustomerID\": [1, 2, 3, 4],\n",
    "    \"AnnualIncome\": [45000, 54000, 32000, 72000],\n",
    "    \"SpendingScore\": [39, 81, 6, 77]\n",
    "})\n",
    "\n",
    "print(\"\\nUnlabeled Customer Segmentation Dataset:\")\n",
    "print(unlabeled_customers)\n"
   ]
  },
  {
   "cell_type": "markdown",
   "metadata": {},
   "source": [
    "Task 2: Examine a problem statement and determine which learning type is applicable.<br>"
   ]
  },
  {
   "cell_type": "code",
   "execution_count": 3,
   "metadata": {},
   "outputs": [
    {
     "name": "stdout",
     "output_type": "stream",
     "text": [
      "Problem: Predict whether a customer will churn based on their service usage.\n",
      "Learning Type: Supervised Learning\n",
      "\n",
      "Problem: Group customers into distinct segments based on their purchase behavior.\n",
      "Learning Type: Unsupervised Learning\n",
      "\n",
      "Problem: Discover patterns in user browsing data.\n",
      "Learning Type: Unsupervised Learning\n",
      "\n"
     ]
    }
   ],
   "source": [
    "# Write your code here\n",
    "def determine_learning_type(problem_statement):\n",
    "    \"\"\"\n",
    "    Determine the type of machine learning based on the problem statement.\n",
    "    \"\"\"\n",
    "    # Keywords indicating supervised learning problems\n",
    "    supervised_keywords = [\"predict\", \"classify\", \"regression\", \"classification\", \"label\", \"target\", \"output\", \"supervised\"]\n",
    "    \n",
    "    # Keywords indicating unsupervised learning problems\n",
    "    unsupervised_keywords = [\"cluster\", \"group\", \"segment\", \"association\", \"unsupervised\", \"pattern\", \"anomaly\", \"reduce dimensionality\"]\n",
    "    \n",
    "    problem_lower = problem_statement.lower()\n",
    "    \n",
    "    if any(word in problem_lower for word in supervised_keywords):\n",
    "        return \"Supervised Learning\"\n",
    "    elif any(word in problem_lower for word in unsupervised_keywords):\n",
    "        return \"Unsupervised Learning\"\n",
    "    else:\n",
    "        return \"Cannot determine learning type from the statement\"\n",
    "\n",
    "# Examples of problem statements\n",
    "problem1 = \"Predict whether a customer will churn based on their service usage.\"\n",
    "problem2 = \"Group customers into distinct segments based on their purchase behavior.\"\n",
    "problem3 = \"Discover patterns in user browsing data.\"\n",
    "\n",
    "print(f\"Problem: {problem1}\\nLearning Type: {determine_learning_type(problem1)}\\n\")\n",
    "print(f\"Problem: {problem2}\\nLearning Type: {determine_learning_type(problem2)}\\n\")\n",
    "print(f\"Problem: {problem3}\\nLearning Type: {determine_learning_type(problem3)}\\n\")\n"
   ]
  },
  {
   "cell_type": "markdown",
   "metadata": {},
   "source": [
    "Task 3: Identify whether facial recognition systems use supervised or unsupervised learning and justify."
   ]
  },
  {
   "cell_type": "code",
   "execution_count": 4,
   "metadata": {},
   "outputs": [
    {
     "name": "stdout",
     "output_type": "stream",
     "text": [
      "Accuracy: 0.0\n",
      "Classification Report:\n",
      "               precision    recall  f1-score   support\n",
      "\n",
      "    Person A       0.00      0.00      0.00       2.0\n",
      "    Person C       0.00      0.00      0.00       0.0\n",
      "\n",
      "    accuracy                           0.00       2.0\n",
      "   macro avg       0.00      0.00      0.00       2.0\n",
      "weighted avg       0.00      0.00      0.00       2.0\n",
      "\n"
     ]
    },
    {
     "name": "stderr",
     "output_type": "stream",
     "text": [
      "/home/vscode/.local/lib/python3.10/site-packages/sklearn/metrics/_classification.py:1565: UndefinedMetricWarning: Precision is ill-defined and being set to 0.0 in labels with no predicted samples. Use `zero_division` parameter to control this behavior.\n",
      "  _warn_prf(average, modifier, f\"{metric.capitalize()} is\", len(result))\n",
      "/home/vscode/.local/lib/python3.10/site-packages/sklearn/metrics/_classification.py:1565: UndefinedMetricWarning: Recall is ill-defined and being set to 0.0 in labels with no true samples. Use `zero_division` parameter to control this behavior.\n",
      "  _warn_prf(average, modifier, f\"{metric.capitalize()} is\", len(result))\n",
      "/home/vscode/.local/lib/python3.10/site-packages/sklearn/metrics/_classification.py:1565: UndefinedMetricWarning: Precision is ill-defined and being set to 0.0 in labels with no predicted samples. Use `zero_division` parameter to control this behavior.\n",
      "  _warn_prf(average, modifier, f\"{metric.capitalize()} is\", len(result))\n",
      "/home/vscode/.local/lib/python3.10/site-packages/sklearn/metrics/_classification.py:1565: UndefinedMetricWarning: Recall is ill-defined and being set to 0.0 in labels with no true samples. Use `zero_division` parameter to control this behavior.\n",
      "  _warn_prf(average, modifier, f\"{metric.capitalize()} is\", len(result))\n",
      "/home/vscode/.local/lib/python3.10/site-packages/sklearn/metrics/_classification.py:1565: UndefinedMetricWarning: Precision is ill-defined and being set to 0.0 in labels with no predicted samples. Use `zero_division` parameter to control this behavior.\n",
      "  _warn_prf(average, modifier, f\"{metric.capitalize()} is\", len(result))\n",
      "/home/vscode/.local/lib/python3.10/site-packages/sklearn/metrics/_classification.py:1565: UndefinedMetricWarning: Recall is ill-defined and being set to 0.0 in labels with no true samples. Use `zero_division` parameter to control this behavior.\n",
      "  _warn_prf(average, modifier, f\"{metric.capitalize()} is\", len(result))\n"
     ]
    }
   ],
   "source": [
    "# Write your code here\n",
    "from sklearn.model_selection import train_test_split\n",
    "from sklearn.svm import SVC\n",
    "from sklearn.metrics import classification_report, accuracy_score\n",
    "import numpy as np\n",
    "\n",
    "# Simulated feature vectors for faces (e.g., extracted embeddings)\n",
    "X = np.array([\n",
    "    [0.1, 0.2, 0.1],  # Person A\n",
    "    [0.2, 0.1, 0.2],  # Person A\n",
    "    [0.9, 0.8, 0.7],  # Person B\n",
    "    [0.8, 0.9, 0.6],  # Person B\n",
    "    [0.4, 0.5, 0.4],  # Person C\n",
    "    [0.5, 0.4, 0.5]   # Person C\n",
    "])\n",
    "\n",
    "# Labels corresponding to person identities\n",
    "y = np.array(['Person A', 'Person A', 'Person B', 'Person B', 'Person C', 'Person C'])\n",
    "\n",
    "# Split data into train and test sets\n",
    "X_train, X_test, y_train, y_test = train_test_split(X, y, test_size=0.33, random_state=42)\n",
    "\n",
    "# Train a classifier (SVM here)\n",
    "model = SVC(kernel='linear')\n",
    "model.fit(X_train, y_train)\n",
    "\n",
    "# Predict on test data\n",
    "y_pred = model.predict(X_test)\n",
    "\n",
    "# Evaluate\n",
    "print(\"Accuracy:\", accuracy_score(y_test, y_pred))\n",
    "print(\"Classification Report:\\n\", classification_report(y_test, y_pred))\n"
   ]
  }
 ],
 "metadata": {
  "kernelspec": {
   "display_name": "Python 3",
   "language": "python",
   "name": "python3"
  },
  "language_info": {
   "codemirror_mode": {
    "name": "ipython",
    "version": 3
   },
   "file_extension": ".py",
   "mimetype": "text/x-python",
   "name": "python",
   "nbconvert_exporter": "python",
   "pygments_lexer": "ipython3",
   "version": "3.10.12"
  }
 },
 "nbformat": 4,
 "nbformat_minor": 2
}
