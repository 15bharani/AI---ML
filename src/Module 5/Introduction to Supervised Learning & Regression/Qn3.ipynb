{
 "cells": [
  {
   "cell_type": "code",
   "execution_count": 3,
   "metadata": {},
   "outputs": [],
   "source": [
    "# Title: Regression Models\n",
    "\n",
    "# Linear Regression (Simple & Multiple)\n",
    "\n",
    "# Task 1: Differentiate between a labeled dataset of image classifications and an unlabeled dataset for clustering customer segments.\n",
    "# Task 2: Examine a problem statement and determine which learning type is applicable.\n",
    "# Task 3: Identify whether facial recognition systems use supervised or unsupervised learning and justify."
   ]
  }
 ],
 "metadata": {
  "kernelspec": {
   "display_name": "Python 3",
   "language": "python",
   "name": "python3"
  },
  "language_info": {
   "codemirror_mode": {
    "name": "ipython",
    "version": 3
   },
   "file_extension": ".py",
   "mimetype": "text/x-python",
   "name": "python",
   "nbconvert_exporter": "python",
   "pygments_lexer": "ipython3",
   "version": "3.12.5"
  }
 },
 "nbformat": 4,
 "nbformat_minor": 2
}
