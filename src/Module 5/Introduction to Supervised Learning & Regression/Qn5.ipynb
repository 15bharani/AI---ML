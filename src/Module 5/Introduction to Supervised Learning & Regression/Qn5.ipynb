{
 "cells": [
  {
   "cell_type": "code",
   "execution_count": 1,
   "metadata": {},
   "outputs": [],
   "source": [
    "\n",
    "# Title: Regression Models\n",
    "\n",
    "# Ridge & Lasso Regression (Regularization Techniques)\n",
    "\n",
    "# Task 1: Use Ridge regression on a dataset with multicollinearity to compare results with linear regression.\n",
    "# Task 2: Implement Lasso regression and observe effect on feature selection in feature rich data.\n",
    "# Task 3: Regularization effects visualization with model complexity and performance metrics comparison.\n"
   ]
  }
 ],
 "metadata": {
  "kernelspec": {
   "display_name": "Python 3",
   "language": "python",
   "name": "python3"
  },
  "language_info": {
   "codemirror_mode": {
    "name": "ipython",
    "version": 3
   },
   "file_extension": ".py",
   "mimetype": "text/x-python",
   "name": "python",
   "nbconvert_exporter": "python",
   "pygments_lexer": "ipython3",
   "version": "3.12.5"
  }
 },
 "nbformat": 4,
 "nbformat_minor": 2
}
