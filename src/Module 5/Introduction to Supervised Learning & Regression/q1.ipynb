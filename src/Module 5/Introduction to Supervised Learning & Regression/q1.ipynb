{
 "cells": [
  {
   "cell_type": "code",
   "execution_count": null,
   "metadata": {},
   "outputs": [],
   "source": [
    "# Title: Supervised Learning\n",
    "\n",
    "# Task 1: Identify input-output pairs in a dataset of housing prices.\n",
    "# Task 2: Match labeled images to their correct classifications.\n",
    "# Task 3: List potential inputs and outputs for predicting stock prices.\n",
    "\n",
    "# Title : Difference Between Supervised vs. Unsupervised Learning\n",
    "\n",
    "# Task 1: Differentiate between a labeled dataset of image classifications and an unlabeled dataset for clustering customer segments.\n",
    "# Task 2: Examine a problem statement and determine which learning type is applicable.\n",
    "# Task 3: Identify whether facial recognition systems use supervised or unsupervised learning and justify.\n",
    "\n",
    "# Title: Types of Supervised Learning: Regression & Classification\n",
    "\n",
    "# Task 1: Categorize predicting temperatures (regression) vs. identifying animal species in photos (classification).\n",
    "# Task 2: Discuss and decide if predicting GPA based on study hours (regression).\n",
    "# Task 3: Evaluate whether a model for predicting customer churn is classification or regression.\n"
   ]
  },
  {
   "cell_type": "code",
   "execution_count": null,
   "metadata": {},
   "outputs": [],
   "source": [
    "\n",
    "\n",
    "\n"
   ]
  },
  {
   "cell_type": "code",
   "execution_count": null,
   "metadata": {},
   "outputs": [],
   "source": []
  },
  {
   "cell_type": "code",
   "execution_count": 6,
   "metadata": {},
   "outputs": [],
   "source": [
    "# Linear Regression (Simple & Multiple)\n",
    "\n",
    "# Activity Steps:\n",
    "\n",
    "# 1. Model Building:\n",
    "# Implement simple linear regression using any programming language to predict students’ scores based on study hours.\n",
    "# 2. Data Visualization:\n",
    "# Plot the linear regression line on a graph and interpret the results.\n",
    "# 3. Complexity Exploration:\n",
    "# Extend the model to multiple linear regression with additional features like time per session, and see the impact.\n",
    "\n",
    "# Task 1: Differentiate between a labeled dataset of image classifications and an unlabeled dataset for clustering customer segments.\n",
    "# Task 2: Examine a problem statement and determine which learning type is applicable.\n",
    "# Task 3: Identify whether facial recognition systems use supervised or unsupervised learning and justify.\n"
   ]
  },
  {
   "cell_type": "code",
   "execution_count": 7,
   "metadata": {},
   "outputs": [],
   "source": [
    "# Polynomial Regression\n",
    "\n",
    "# Activity Steps:\n",
    "\n",
    "# 1. Experimentation:\n",
    "# Use a non-linear dataset and apply polynomial regression. Compare against linear regression results.\n",
    "# 2. Model Evaluation:\n",
    "# Discuss how the degree of the polynomial affects the model's fit.\n",
    "# 3. Visualization:\n",
    "# Visualize the polynomial regression curve and explain the increase in complexity.\n",
    "\n",
    "# Task 1: Apply polynomial regression to a dataset showing the relationship between age and income.\n",
    "# Task 2: Explore and visualize a higher-degree polynomial fitting compared to a simple linear regression.\n",
    "# Task 3: Dataset with cyclical patterns such as tides or circadian cycles."
   ]
  },
  {
   "cell_type": "code",
   "execution_count": 10,
   "metadata": {},
   "outputs": [],
   "source": [
    "# Ridge & Lasso Regression (Regularization Techniques)\n",
    "\n",
    "# Activity Steps:\n",
    "\n",
    "# 1. Understanding Regularization:\n",
    "# Examine the need for regularization in preventing overfitting.\n",
    "# 2. Implementation:\n",
    "# Implement both Ridge and Lasso regressions on a high-dimensional dataset to observe performance differences.\n",
    "# 3. Comparison and Contrast:\n",
    "# Compare results from Ridge, Lasso, and non-regularized models.\n",
    "\n",
    "# Task 1: Use Ridge regression on a dataset with multicollinearity to compare results with linear regression.\n",
    "# Task 2: Implement Lasso regression and observe effect on feature selection in feature rich data.\n",
    "# Task 3: Regularization effects visualization with model complexity and performance metrics comparison.\n"
   ]
  },
  {
   "cell_type": "code",
   "execution_count": 11,
   "metadata": {},
   "outputs": [],
   "source": [
    "# Evaluate model performance using Mean Absolute Error, Mean Squared Error, and\n",
    "# R2 Score.\n",
    "\n",
    "# Activity Steps:\n",
    "\n",
    "# 1. Metric Calculation:\n",
    "# Compute MAE, MSE, and R2 Score for a basic regression model and interpret the meaning of each metric.\n",
    "# 2. Comparative Analysis:\n",
    "# Analyze models using these metrics to choose the best-performing model for a given dataset.\n",
    "# 3. Discussion Session:\n",
    "# Discuss scenarios where one metric might be preferred over others.\n",
    "\n",
    "# Task 1: Calculate MAE and MSE on test predictions and compare errors.\n",
    "# Task 2: Evaluate R2 Score on varying datasets and discuss significance.\n",
    "# Task 3: Use a sample dataset, compute all three metrics, and deduce model performance."
   ]
  }
 ],
 "metadata": {
  "kernelspec": {
   "display_name": "Python 3",
   "language": "python",
   "name": "python3"
  },
  "language_info": {
   "codemirror_mode": {
    "name": "ipython",
    "version": 3
   },
   "file_extension": ".py",
   "mimetype": "text/x-python",
   "name": "python",
   "nbconvert_exporter": "python",
   "pygments_lexer": "ipython3",
   "version": "3.12.5"
  }
 },
 "nbformat": 4,
 "nbformat_minor": 2
}
