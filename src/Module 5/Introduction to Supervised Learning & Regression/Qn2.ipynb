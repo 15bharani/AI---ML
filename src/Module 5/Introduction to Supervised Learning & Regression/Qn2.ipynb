{
 "cells": [
  {
   "cell_type": "code",
   "execution_count": 1,
   "metadata": {},
   "outputs": [],
   "source": [
    "# Title: Types of Supervised Learning: Regression & Classification\n",
    "\n",
    "# Task 1: Categorize predicting temperatures (regression) vs. identifying animal species in photos (classification).\n",
    "# Task 2: Discuss and decide if predicting GPA based on study hours (regression).\n",
    "# Task 3: Evaluate whether a model for predicting customer churn is classification or regression.\n"
   ]
  }
 ],
 "metadata": {
  "kernelspec": {
   "display_name": "Python 3",
   "language": "python",
   "name": "python3"
  },
  "language_info": {
   "codemirror_mode": {
    "name": "ipython",
    "version": 3
   },
   "file_extension": ".py",
   "mimetype": "text/x-python",
   "name": "python",
   "nbconvert_exporter": "python",
   "pygments_lexer": "ipython3",
   "version": "3.12.5"
  }
 },
 "nbformat": 4,
 "nbformat_minor": 2
}
