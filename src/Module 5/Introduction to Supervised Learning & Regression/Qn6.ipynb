{
 "cells": [
  {
   "cell_type": "code",
   "execution_count": 1,
   "metadata": {},
   "outputs": [],
   "source": [
    "# Title: Understanding Regression Metrics\n",
    "\n",
    "# Task 1: Calculate MAE and MSE on test predictions and compare errors.\n",
    "# Task 2: Evaluate R2 Score on varying datasets and discuss significance.\n",
    "# Task 3: Use a sample dataset, compute all three metrics, and deduce model performance."
   ]
  }
 ],
 "metadata": {
  "kernelspec": {
   "display_name": "Python 3",
   "language": "python",
   "name": "python3"
  },
  "language_info": {
   "codemirror_mode": {
    "name": "ipython",
    "version": 3
   },
   "file_extension": ".py",
   "mimetype": "text/x-python",
   "name": "python",
   "nbconvert_exporter": "python",
   "pygments_lexer": "ipython3",
   "version": "3.12.5"
  }
 },
 "nbformat": 4,
 "nbformat_minor": 2
}
