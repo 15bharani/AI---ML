{
 "cells": [
  {
   "cell_type": "markdown",
   "metadata": {},
   "source": [
    "Question 3: Calculate R2 Score <br>\n",
    "\n",
    "Description:<br>\n",
    "Calculate the R2 score for a set of predicted values."
   ]
  },
  {
   "cell_type": "code",
   "execution_count": 1,
   "metadata": {},
   "outputs": [
    {
     "name": "stdout",
     "output_type": "stream",
     "text": [
      "R2 Score: 0.9486\n"
     ]
    }
   ],
   "source": [
    "from sklearn.metrics import r2_score\n",
    "\n",
    "def calculate_r2_score(y_true, y_pred):\n",
    "    # Input validation\n",
    "    if not (isinstance(y_true, (list, tuple)) and isinstance(y_pred, (list, tuple))):\n",
    "        raise TypeError(\"y_true and y_pred must be lists or tuples\")\n",
    "    \n",
    "    if len(y_true) != len(y_pred):\n",
    "        raise ValueError(\"y_true and y_pred must have the same length\")\n",
    "    \n",
    "    if not all(isinstance(x, (int, float)) for x in y_true + y_pred):\n",
    "        raise ValueError(\"All elements in y_true and y_pred must be numeric (int or float)\")\n",
    "\n",
    "    try:\n",
    "        r2 = r2_score(y_true, y_pred)\n",
    "        return r2\n",
    "    except Exception as e:\n",
    "        print(f\"Error calculating R2 score: {e}\")\n",
    "        return None\n",
    "\n",
    "# Example usage\n",
    "y_true = [3, -0.5, 2, 7]\n",
    "y_pred = [2.5, 0.0, 2, 8]\n",
    "\n",
    "r2 = calculate_r2_score(y_true, y_pred)\n",
    "if r2 is not None:\n",
    "    print(f\"R2 Score: {r2:.4f}\")\n"
   ]
  }
 ],
 "metadata": {
  "kernelspec": {
   "display_name": "Python 3",
   "language": "python",
   "name": "python3"
  },
  "language_info": {
   "codemirror_mode": {
    "name": "ipython",
    "version": 3
   },
   "file_extension": ".py",
   "mimetype": "text/x-python",
   "name": "python",
   "nbconvert_exporter": "python",
   "pygments_lexer": "ipython3",
   "version": "3.10.12"
  }
 },
 "nbformat": 4,
 "nbformat_minor": 2
}
