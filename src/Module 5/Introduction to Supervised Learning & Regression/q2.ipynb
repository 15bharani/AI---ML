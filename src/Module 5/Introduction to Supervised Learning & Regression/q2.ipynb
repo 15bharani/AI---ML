{
 "cells": [
  {
   "cell_type": "markdown",
   "metadata": {},
   "source": [
    "\n",
    "Question 2: Polynomial Regression <br>\n",
    "\n",
    "Description:<br>\n",
    "Perform polynomial regression to fit a non-linear dataset."
   ]
  },
  {
   "cell_type": "code",
   "execution_count": null,
   "metadata": {},
   "outputs": [
    {
     "name": "stdout",
     "output_type": "stream",
     "text": [
      "Degree: 3\n",
      "Mean Absolute Error (MAE): 6.20\n",
      "Mean Squared Error (MSE): 55.32\n",
      "R² Score: 0.99\n"
     ]
    }
   ],
   "source": [
    "# Write your code here\n",
    "import numpy as np\n",
    "import matplotlib.pyplot as plt\n",
    "from sklearn.linear_model import LinearRegression\n",
    "from sklearn.preprocessing import PolynomialFeatures\n",
    "from sklearn.metrics import mean_absolute_error, mean_squared_error, r2_score\n",
    "from sklearn.model_selection import train_test_split\n",
    "\n",
    "# Step 1: Generate a non-linear dataset\n",
    "np.random.seed(0)\n",
    "X = np.linspace(0, 10, 100).reshape(-1, 1)\n",
    "y = 0.5 * X**3 - 2 * X**2 + X + 5 + np.random.normal(0, 8, size=X.shape)\n",
    "\n",
    "# Step 2: Train-Test Split\n",
    "X_train, X_test, y_train, y_test = train_test_split(X, y, test_size=0.2, random_state=42)\n",
    "\n",
    "# Step 3: Polynomial Features\n",
    "degree = 3\n",
    "poly = PolynomialFeatures(degree=degree)\n",
    "X_poly_train = poly.fit_transform(X_train)\n",
    "X_poly_test = poly.transform(X_test)\n",
    "\n",
    "# Step 4: Train the model\n",
    "model = LinearRegression()\n",
    "model.fit(X_poly_train, y_train)\n",
    "\n",
    "# Step 5: Predict\n",
    "y_pred = model.predict(X_poly_test)\n",
    "\n",
    "# Step 6: Evaluate\n",
    "mae = mean_absolute_error(y_test, y_pred)\n",
    "mse = mean_squared_error(y_test, y_pred)\n",
    "r2 = r2_score(y_test, y_pred)\n",
    "\n",
    "print(f\"Degree: {degree}\")\n",
    "print(f\"Mean Absolute Error (MAE): {mae:.2f}\")\n",
    "print(f\"Mean Squared Error (MSE): {mse:.2f}\")\n",
    "print(f\"R² Score: {r2:.2f}\")\n",
    "\n",
    "# Step 7: Plot the polynomial curve\n",
    "X_sorted = np.sort(X, axis=0)\n",
    "X_sorted_poly = poly.transform(X_sorted)\n",
    "y_sorted_pred = model.predict(X_sorted_poly)\n",
    "\n",
    "plt.scatter(X, y, color='blue', label='Actual Data')\n",
    "plt.plot(X_sorted, y_sorted_pred, color='red', linewidth=2, label='Polynomial Fit')\n",
    "plt.xlabel('X')\n",
    "plt.ylabel('y')\n",
    "plt.title(f'Polynomial Regression (Degree {degree})')\n",
    "plt.legend()\n",
    "plt.grid(True)\n",
    "plt.show()\n"
   ]
  }
 ],
 "metadata": {
  "kernelspec": {
   "display_name": "Python 3",
   "language": "python",
   "name": "python3"
  },
  "language_info": {
   "codemirror_mode": {
    "name": "ipython",
    "version": 3
   },
   "file_extension": ".py",
   "mimetype": "text/x-python",
   "name": "python",
   "nbconvert_exporter": "python",
   "pygments_lexer": "ipython3",
   "version": "3.10.12"
  }
 },
 "nbformat": 4,
 "nbformat_minor": 2
}
