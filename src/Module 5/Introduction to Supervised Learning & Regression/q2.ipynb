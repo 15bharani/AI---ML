{
 "cells": [
  {
   "cell_type": "markdown",
   "metadata": {},
   "source": [
    "Title: Supervised Learning\n",
    "\n",
    "Task 1: Identify input-output pairs in a dataset of housing prices.\n",
    "Task 2: Match labeled images to their correct classifications.\n",
    "Task 3: List potential inputs and outputs for predicting stock prices.\n"
   ]
  },
  {
   "cell_type": "code",
   "execution_count": 1,
   "metadata": {},
   "outputs": [],
   "source": [
    "# Write your code from here"
   ]
  },
  {
   "cell_type": "markdown",
   "metadata": {},
   "source": [
    "Title: Types of Supervised Learning: Regression & Classification\n",
    "\n",
    "Task 1: Categorize predicting temperatures (regression) vs. identifying animal species in photo(classification).\n",
    "Task 2: Discuss and decide if predicting GPA based on study hours (regression).\n",
    "Task 3: Evaluate whether a model for predicting customer churn is classification or regression."
   ]
  },
  {
   "cell_type": "code",
   "execution_count": 2,
   "metadata": {},
   "outputs": [],
   "source": [
    "# Write your code from here"
   ]
  },
  {
   "cell_type": "markdown",
   "metadata": {},
   "source": [
    "Title: Regression Models\n",
    "\n",
    "Linear Regression (Simple & Multiple)\n",
    "\n",
    "Task 1: Differentiate between a labeled dataset of image classifications and an unlabeled dataset for clustering customer segments.\n",
    "Task 2: Examine a problem statement and determine which learning type is applicable.\n",
    "Task 3: Identify whether facial recognition systems use supervised or unsupervised learning and justify."
   ]
  },
  {
   "cell_type": "code",
   "execution_count": 3,
   "metadata": {},
   "outputs": [],
   "source": [
    "# Write your code from here"
   ]
  },
  {
   "cell_type": "markdown",
   "metadata": {},
   "source": [
    "Title: Regression Models\n",
    "\n",
    "Polynomial Regression\n",
    "\n",
    "Task 1: Apply polynomial regression to a dataset showing the relationship between age and income.\n",
    "Task 2: Explore and visualize a higher-degree polynomial fitting compared to a simple linear regression.\n",
    "Task 3: Dataset with cyclical patterns such as tides or circadian cycles."
   ]
  },
  {
   "cell_type": "code",
   "execution_count": 4,
   "metadata": {},
   "outputs": [],
   "source": [
    "# Write your code from here"
   ]
  },
  {
   "cell_type": "markdown",
   "metadata": {},
   "source": [
    "\n",
    "Title: Regression Models\n",
    "\n",
    "Ridge & Lasso Regression (Regularization Techniques)\n",
    "\n",
    "Task 1: Use Ridge regression on a dataset with multicollinearity to compare results with linear regression.\n",
    "Task 2: Implement Lasso regression and observe effect on feature selection in feature rich data.\n",
    "Task 3: Regularization effects visualization with model complexity and performance metrics comparison."
   ]
  },
  {
   "cell_type": "code",
   "execution_count": 5,
   "metadata": {},
   "outputs": [],
   "source": [
    "# Write your code from here"
   ]
  },
  {
   "cell_type": "markdown",
   "metadata": {},
   "source": [
    "Title: Understanding Regression Metrics\n",
    "\n",
    "Task 1: Calculate MAE and MSE on test predictions and compare errors.\n",
    "Task 2: Evaluate R2 Score on varying datasets and discuss significance.\n",
    "Task 3: Use a sample dataset, compute all three metrics, and deduce model performance."
   ]
  },
  {
   "cell_type": "code",
   "execution_count": 6,
   "metadata": {},
   "outputs": [],
   "source": [
    "# Write your code from here"
   ]
  }
 ],
 "metadata": {
  "kernelspec": {
   "display_name": "Python 3",
   "language": "python",
   "name": "python3"
  },
  "language_info": {
   "codemirror_mode": {
    "name": "ipython",
    "version": 3
   },
   "file_extension": ".py",
   "mimetype": "text/x-python",
   "name": "python",
   "nbconvert_exporter": "python",
   "pygments_lexer": "ipython3",
   "version": "3.12.5"
  }
 },
 "nbformat": 4,
 "nbformat_minor": 2
}
