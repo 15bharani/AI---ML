{
 "cells": [
  {
   "cell_type": "code",
   "execution_count": 1,
   "metadata": {},
   "outputs": [],
   "source": [
    "\n",
    "# Title: Classification Model Performance Metrics\n",
    "\n",
    "# Accuracy, Precision, Recall, F1-Score:\n",
    "\n",
    "# Task 1: Evaluate a binary classifier for spam detection using accuracy, precision, recall and F1-score.\n",
    "# Task 2: Compare performance of a multi-class classifier on recognizing animals.\n",
    "# Task 3: Analyze classifier performance for predicting disease outbreaks.\n",
    "\n"
   ]
  }
 ],
 "metadata": {
  "kernelspec": {
   "display_name": "Python 3",
   "language": "python",
   "name": "python3"
  },
  "language_info": {
   "codemirror_mode": {
    "name": "ipython",
    "version": 3
   },
   "file_extension": ".py",
   "mimetype": "text/x-python",
   "name": "python",
   "nbconvert_exporter": "python",
   "pygments_lexer": "ipython3",
   "version": "3.12.5"
  }
 },
 "nbformat": 4,
 "nbformat_minor": 2
}
