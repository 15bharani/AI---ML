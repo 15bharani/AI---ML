{
 "cells": [
  {
   "cell_type": "code",
   "execution_count": 1,
   "metadata": {},
   "outputs": [],
   "source": [
    "# Title: Popular Classification Algorithms\n",
    "\n",
    "# Logistic Regression\n",
    "\n",
    "# Task 1: Predict the likelihood of a student passing a test based on study hours.\n",
    "# Task 2: Predict customer churn based on service usage data.\n",
    "# Task 3: Classify if a review is positive or negative using NLP.\n",
    "\n",
    "\n"
   ]
  }
 ],
 "metadata": {
  "kernelspec": {
   "display_name": "Python 3",
   "language": "python",
   "name": "python3"
  },
  "language_info": {
   "codemirror_mode": {
    "name": "ipython",
    "version": 3
   },
   "file_extension": ".py",
   "mimetype": "text/x-python",
   "name": "python",
   "nbconvert_exporter": "python",
   "pygments_lexer": "ipython3",
   "version": "3.12.5"
  }
 },
 "nbformat": 4,
 "nbformat_minor": 2
}
