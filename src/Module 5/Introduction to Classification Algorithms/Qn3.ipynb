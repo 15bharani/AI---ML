{
 "cells": [
  {
   "cell_type": "markdown",
   "metadata": {},
   "source": [
    "Title: Popular Classification Algorithms"
   ]
  },
  {
   "cell_type": "markdown",
   "metadata": {},
   "source": [
    "Logistic Regression"
   ]
  },
  {
   "cell_type": "markdown",
   "metadata": {},
   "source": [
    "\n",
    "Task 1: Predict the likelihood of a student passing a test based on study hours."
   ]
  },
  {
   "cell_type": "code",
   "execution_count": 5,
   "metadata": {},
   "outputs": [
    {
     "name": "stdout",
     "output_type": "stream",
     "text": [
      "Labeled Data:\n",
      "    Hours_Studied  Passed\n",
      "0              1       0\n",
      "1              2       0\n",
      "2              3       1\n",
      "3              4       1\n",
      "4              5       1\n",
      "\n",
      "Unlabeled Data:\n",
      "    Hours_Studied\n",
      "0              6\n",
      "1              7\n",
      "2              8\n"
     ]
    }
   ],
   "source": [
    "# Labeled Data: Contains features and a target\n",
    "import pandas as pd\n",
    "\n",
    "labeled_data = pd.DataFrame({\n",
    "    'Hours_Studied': [1, 2, 3, 4, 5],\n",
    "    'Passed': [0, 0, 1, 1, 1]\n",
    "})\n",
    "print(\"Labeled Data:\\n\", labeled_data)\n",
    "\n",
    "# Unlabeled Data: Contains features only, no target label\n",
    "unlabeled_data = pd.DataFrame({\n",
    "    'Hours_Studied': [6, 7, 8]\n",
    "})\n",
    "print(\"\\nUnlabeled Data:\\n\", unlabeled_data)\n"
   ]
  },
  {
   "cell_type": "markdown",
   "metadata": {},
   "source": [
    "Task 2: Predict customer churn based on service usage data."
   ]
  },
  {
   "cell_type": "code",
   "execution_count": 6,
   "metadata": {},
   "outputs": [
    {
     "name": "stdout",
     "output_type": "stream",
     "text": [
      "Accuracy: 1.0\n",
      "              precision    recall  f1-score   support\n",
      "\n",
      "           0       1.00      1.00      1.00         2\n",
      "\n",
      "    accuracy                           1.00         2\n",
      "   macro avg       1.00      1.00      1.00         2\n",
      "weighted avg       1.00      1.00      1.00         2\n",
      "\n"
     ]
    }
   ],
   "source": [
    "import pandas as pd\n",
    "from sklearn.model_selection import train_test_split\n",
    "from sklearn.linear_model import LogisticRegression\n",
    "from sklearn.metrics import accuracy_score, classification_report\n",
    "\n",
    "data = pd.DataFrame({\n",
    "    \"MonthlyCharges\": [29.85, 56.95, 53.85, 42.30, 70.70, 99.65, 89.10, 29.75, 104.80, 56.15],\n",
    "    \"Tenure\": [1, 34, 2, 45, 5, 10, 12, 1, 60, 24],\n",
    "    \"Churn\": [1, 0, 1, 0, 1, 0, 0, 1, 0, 0]\n",
    "})\n",
    "\n",
    "X = data[[\"MonthlyCharges\", \"Tenure\"]]\n",
    "y = data[\"Churn\"]\n",
    "\n",
    "X_train, X_test, y_train, y_test = train_test_split(X, y, test_size=0.2, random_state=42)\n",
    "\n",
    "model = LogisticRegression()\n",
    "model.fit(X_train, y_train)\n",
    "\n",
    "y_pred = model.predict(X_test)\n",
    "\n",
    "print(\"Accuracy:\", accuracy_score(y_test, y_pred))\n",
    "print(classification_report(y_test, y_pred))\n"
   ]
  },
  {
   "cell_type": "markdown",
   "metadata": {},
   "source": [
    "Task 3: Classify if a review is positive or negative using NLP."
   ]
  },
  {
   "cell_type": "code",
   "execution_count": 7,
   "metadata": {},
   "outputs": [
    {
     "name": "stdout",
     "output_type": "stream",
     "text": [
      "Cluster Labels: [1 0 0 1 1 1 0 0 1 1]\n"
     ]
    }
   ],
   "source": [
    "# Example: Unsupervised facial clustering\n",
    "from sklearn.cluster import KMeans\n",
    "import numpy as np\n",
    "\n",
    "features = np.random.rand(10, 128)  # Simulated facial embeddings\n",
    "kmeans = KMeans(n_clusters=2)\n",
    "clusters = kmeans.fit_predict(features)\n",
    "print(\"Cluster Labels:\", clusters)\n"
   ]
  }
 ],
 "metadata": {
  "kernelspec": {
   "display_name": "Python 3",
   "language": "python",
   "name": "python3"
  },
  "language_info": {
   "codemirror_mode": {
    "name": "ipython",
    "version": 3
   },
   "file_extension": ".py",
   "mimetype": "text/x-python",
   "name": "python",
   "nbconvert_exporter": "python",
   "pygments_lexer": "ipython3",
   "version": "3.10.12"
  }
 },
 "nbformat": 4,
 "nbformat_minor": 2
}
