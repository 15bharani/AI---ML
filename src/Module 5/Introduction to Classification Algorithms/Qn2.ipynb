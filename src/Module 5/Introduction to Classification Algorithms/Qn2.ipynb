{
 "cells": [
  {
   "cell_type": "code",
   "execution_count": 2,
   "metadata": {},
   "outputs": [],
   "source": [
    "#Title: Classfication\n",
    "\n",
    "# Task 1:\n",
    "# Objective: Identify if an email is spam or not spam.\n",
    "# Load the UCI Spambase Dataset.\n",
    "# Goal: Create a model that classifies emails into two categories: \"spam\" and \"not spam.\"\n",
    "\n",
    "# Task 2:\n",
    "# Objective: Diagnose whether a tumor is malignant or benign.\n",
    "# Load the Breast Cancer Wisconsin dataset.\n",
    "# Goal: Build a binary classification model to classify tumors.\n",
    "\n",
    "# Task 3:\n",
    "# Objective: Determine whether a transaction is fraudulent or legitimate.\n",
    "# Use a credit card transaction dataset.\n",
    "# Goal: Classify transactions into \"fraudulent\" and \"legitimate\" categories.\n"
   ]
  }
 ],
 "metadata": {
  "kernelspec": {
   "display_name": "Python 3",
   "language": "python",
   "name": "python3"
  },
  "language_info": {
   "codemirror_mode": {
    "name": "ipython",
    "version": 3
   },
   "file_extension": ".py",
   "mimetype": "text/x-python",
   "name": "python",
   "nbconvert_exporter": "python",
   "pygments_lexer": "ipython3",
   "version": "3.12.5"
  }
 },
 "nbformat": 4,
 "nbformat_minor": 2
}
