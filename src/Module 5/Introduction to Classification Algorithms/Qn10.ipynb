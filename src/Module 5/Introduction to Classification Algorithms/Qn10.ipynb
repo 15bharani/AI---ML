{
 "cells": [
  {
   "cell_type": "code",
   "execution_count": 1,
   "metadata": {},
   "outputs": [],
   "source": [
    "# Title: Classification Model Performance Metrics\n",
    "\n",
    "# ROC Curve:\n",
    "\n",
    "# Task 1: Plot ROC curve for credit risk prediction and calculate AUC score.\n",
    "# Task 2: Examine ROC curve of email classification model for spam detection.\n",
    "# Task 3: Use ROC-AUC to evaluate performance of a physical activity recognition model."
   ]
  }
 ],
 "metadata": {
  "kernelspec": {
   "display_name": "Python 3",
   "language": "python",
   "name": "python3"
  },
  "language_info": {
   "codemirror_mode": {
    "name": "ipython",
    "version": 3
   },
   "file_extension": ".py",
   "mimetype": "text/x-python",
   "name": "python",
   "nbconvert_exporter": "python",
   "pygments_lexer": "ipython3",
   "version": "3.12.5"
  }
 },
 "nbformat": 4,
 "nbformat_minor": 2
}
