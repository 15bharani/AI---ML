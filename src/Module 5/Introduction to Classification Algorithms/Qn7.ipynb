{
 "cells": [
  {
   "cell_type": "code",
   "execution_count": 1,
   "metadata": {},
   "outputs": [],
   "source": [
    "\n",
    "# Title: Popular Classification Algorithms\n",
    "\n",
    "# K Nearst Neighbors (KNN)\n",
    "\n",
    "# Task 1: Classify fruits based on weight and color.\n",
    "# Task 2: Predict customer clothing size based on height and weight.\n",
    "# Task 3: Determine optimal movie recommendation based on viewer preferences."
   ]
  }
 ],
 "metadata": {
  "kernelspec": {
   "display_name": "Python 3",
   "language": "python",
   "name": "python3"
  },
  "language_info": {
   "codemirror_mode": {
    "name": "ipython",
    "version": 3
   },
   "file_extension": ".py",
   "mimetype": "text/x-python",
   "name": "python",
   "nbconvert_exporter": "python",
   "pygments_lexer": "ipython3",
   "version": "3.12.5"
  }
 },
 "nbformat": 4,
 "nbformat_minor": 2
}
