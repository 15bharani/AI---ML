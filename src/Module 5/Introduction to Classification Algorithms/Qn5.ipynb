{
 "cells": [
  {
   "cell_type": "code",
   "execution_count": 1,
   "metadata": {},
   "outputs": [],
   "source": [
    "# Title: Popular Classification Algorithms\n",
    "\n",
    "# Random Forest\n",
    "# Task 1: Predict employee attrition based on job satisfaction and salary.\n",
    "# Task 2: Classify types of wine based on chemical analysis.\n",
    "# Task 3: Predict housing loan approval based on financial and personal data.\n",
    "\n"
   ]
  }
 ],
 "metadata": {
  "kernelspec": {
   "display_name": "Python 3",
   "language": "python",
   "name": "python3"
  },
  "language_info": {
   "codemirror_mode": {
    "name": "ipython",
    "version": 3
   },
   "file_extension": ".py",
   "mimetype": "text/x-python",
   "name": "python",
   "nbconvert_exporter": "python",
   "pygments_lexer": "ipython3",
   "version": "3.12.5"
  }
 },
 "nbformat": 4,
 "nbformat_minor": 2
}
