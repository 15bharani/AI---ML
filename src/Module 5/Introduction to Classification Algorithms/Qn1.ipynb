{
 "cells": [
  {
   "cell_type": "code",
   "execution_count": 2,
   "metadata": {},
   "outputs": [],
   "source": [
    "# Title: Binary vs. Multi-Class Classification\n",
    "\n",
    "# Task 1:\n",
    "# Binary Classification: Predict if a website visitor will click a button (Click or No Click).\n",
    "# Use a web visitor interaction dataset.\n",
    "# Task: Implement binary classification for click prediction.\n",
    "\n",
    "# Task 2:\n",
    "# Multi-Class Classification: Recognize handwritten digits (0-9).\n",
    "# Use the MNIST dataset.\n",
    "# Goal: Develop a model that correctly classifies each handwritten digit.\n",
    "\n",
    "# Task 3:\n",
    "# Multi-Class Classification: Classify a flower species based on petal and sepal measurements.\n",
    "# Use the Iris dataset.\n",
    "# Task: Use features to classify into three species: Setosa, Versicolor, or Virginica.\n"
   ]
  }
 ],
 "metadata": {
  "kernelspec": {
   "display_name": "Python 3",
   "language": "python",
   "name": "python3"
  },
  "language_info": {
   "codemirror_mode": {
    "name": "ipython",
    "version": 3
   },
   "file_extension": ".py",
   "mimetype": "text/x-python",
   "name": "python",
   "nbconvert_exporter": "python",
   "pygments_lexer": "ipython3",
   "version": "3.12.5"
  }
 },
 "nbformat": 4,
 "nbformat_minor": 2
}
