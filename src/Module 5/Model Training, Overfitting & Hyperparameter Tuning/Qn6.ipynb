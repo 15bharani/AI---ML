{
 "cells": [
  {
   "cell_type": "code",
   "execution_count": 1,
   "metadata": {},
   "outputs": [],
   "source": [
    "# Title: GridSearchCV & RandomizedSearchCV\n",
    "\n",
    "# Task 1: GridSearchCV for Decision Trees\n",
    "# Use GridSearchCV to tune max_depth and min_samples_split in Decision Tree for Iris.\n",
    "# Task 2: RandomizedSearchCV for Random Forest\n",
    "# Apply RandomizedSearchCV to optimize hyperparameters of Random Forest for customer churn.\n",
    "# Task 3: Fine-Tuning SVR with GridSearchCV\n",
    "# Use GridSearchCV to find best parameters for Support Vector Regression on housing data."
   ]
  }
 ],
 "metadata": {
  "kernelspec": {
   "display_name": "Python 3",
   "language": "python",
   "name": "python3"
  },
  "language_info": {
   "codemirror_mode": {
    "name": "ipython",
    "version": 3
   },
   "file_extension": ".py",
   "mimetype": "text/x-python",
   "name": "python",
   "nbconvert_exporter": "python",
   "pygments_lexer": "ipython3",
   "version": "3.12.5"
  }
 },
 "nbformat": 4,
 "nbformat_minor": 2
}
