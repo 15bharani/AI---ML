{
 "cells": [
  {
   "cell_type": "code",
   "execution_count": 1,
   "metadata": {},
   "outputs": [],
   "source": [
    "# Title: Performance Evaluation\n",
    "\n",
    "# Task 1: Regression Metrics\n",
    "# Use metrics like RMSE and MAE for the House Prices dataset.\n",
    "# Task 2: Classification Metrics\n",
    "# Evaluate the Iris dataset using accuracy, precision, recall, and F1-score.\n",
    "# Task 3: AUC-ROC Curve for Churn Model\n",
    "# Generate an AUC-ROC curve to evaluate customer churn model performance."
   ]
  }
 ],
 "metadata": {
  "kernelspec": {
   "display_name": "Python 3",
   "language": "python",
   "name": "python3"
  },
  "language_info": {
   "codemirror_mode": {
    "name": "ipython",
    "version": 3
   },
   "file_extension": ".py",
   "mimetype": "text/x-python",
   "name": "python",
   "nbconvert_exporter": "python",
   "pygments_lexer": "ipython3",
   "version": "3.12.5"
  }
 },
 "nbformat": 4,
 "nbformat_minor": 2
}
