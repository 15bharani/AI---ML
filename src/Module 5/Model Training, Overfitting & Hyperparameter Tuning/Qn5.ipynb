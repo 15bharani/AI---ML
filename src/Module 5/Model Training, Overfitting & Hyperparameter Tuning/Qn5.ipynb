{
 "cells": [
  {
   "cell_type": "code",
   "execution_count": 1,
   "metadata": {},
   "outputs": [],
   "source": [
    "# Title: Regularization Techniques\n",
    "\n",
    "# Task 1: Ridge Regression on House Prices\n",
    "# Apply Ridge regularization to the Linear Regression model.\n",
    "# Task 2: Lasso Regression for Feature Selection\n",
    "# Use Lasso to select important features in the housing data.\n",
    "# Task 3: ElasticNet for Customer Churn\n",
    "# Implement ElasticNet to balance between Ridge and Lasso.\n"
   ]
  }
 ],
 "metadata": {
  "kernelspec": {
   "display_name": "Python 3",
   "language": "python",
   "name": "python3"
  },
  "language_info": {
   "codemirror_mode": {
    "name": "ipython",
    "version": 3
   },
   "file_extension": ".py",
   "mimetype": "text/x-python",
   "name": "python",
   "nbconvert_exporter": "python",
   "pygments_lexer": "ipython3",
   "version": "3.12.5"
  }
 },
 "nbformat": 4,
 "nbformat_minor": 2
}
