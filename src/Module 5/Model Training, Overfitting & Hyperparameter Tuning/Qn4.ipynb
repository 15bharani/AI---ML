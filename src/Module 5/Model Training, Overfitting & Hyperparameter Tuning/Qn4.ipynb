{
 "cells": [
  {
   "cell_type": "code",
   "execution_count": 1,
   "metadata": {},
   "outputs": [],
   "source": [
    "# Title: Cross-Validation\n",
    "\n",
    "# Task 1: K-Fold Cross-Validation for House Prices\n",
    "# Apply K-Fold Cross-Validation (K=5) to check variability in performance.\n",
    "# Task 2: Stratified K-Fold for Imbalanced Churn Dataset\n",
    "# Use Stratified K-Fold to ensure each class is represented.\n",
    "# Task 3: Leave-One-Out Cross-Validation for Iris\n",
    "# Use LOOCV to assess model prediction for the Iris dataset.\n"
   ]
  }
 ],
 "metadata": {
  "kernelspec": {
   "display_name": "Python 3",
   "language": "python",
   "name": "python3"
  },
  "language_info": {
   "codemirror_mode": {
    "name": "ipython",
    "version": 3
   },
   "file_extension": ".py",
   "mimetype": "text/x-python",
   "name": "python",
   "nbconvert_exporter": "python",
   "pygments_lexer": "ipython3",
   "version": "3.12.5"
  }
 },
 "nbformat": 4,
 "nbformat_minor": 2
}
