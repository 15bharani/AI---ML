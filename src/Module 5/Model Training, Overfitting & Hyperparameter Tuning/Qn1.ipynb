{
 "cells": [
  {
   "cell_type": "code",
   "execution_count": 1,
   "metadata": {},
   "outputs": [],
   "source": [
    "# Title: Data Splitting (Train-Test-Validation)\n",
    "\n",
    "# Task 1: House Prices Dataset (Regression)\n",
    "# Use the House Prices dataset to predict house prices.\n",
    "# Split the data into training, validation, and test sets (70% train, 15% validation, 15% test).\n",
    "\n",
    "# Task 2: Iris Dataset (Classification)\n",
    "# Apply data splitting to the Iris dataset.\n",
    "# Split it into train (70%), validation (15%), and test (15%).\n",
    "\n",
    "# Task 3: Customer Churn Dataset (Classification)\n",
    "# Predict customer churn using the telecom dataset.\n",
    "# Split the data into training, validation, and test sets.\n"
   ]
  }
 ],
 "metadata": {
  "kernelspec": {
   "display_name": "Python 3",
   "language": "python",
   "name": "python3"
  },
  "language_info": {
   "codemirror_mode": {
    "name": "ipython",
    "version": 3
   },
   "file_extension": ".py",
   "mimetype": "text/x-python",
   "name": "python",
   "nbconvert_exporter": "python",
   "pygments_lexer": "ipython3",
   "version": "3.12.5"
  }
 },
 "nbformat": 4,
 "nbformat_minor": 2
}
