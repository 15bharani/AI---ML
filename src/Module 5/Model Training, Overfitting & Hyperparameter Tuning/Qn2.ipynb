{
 "cells": [
  {
   "cell_type": "code",
   "execution_count": 1,
   "metadata": {},
   "outputs": [],
   "source": [
    "# Title: Model Selection\n",
    "\n",
    "# Task 1: Linear Regression on House Prices\n",
    "# Use Linear Regression and evaluate its performance on the validation set.\n",
    "\n",
    "# Task 2: Decision Tree Classifier on Iris Dataset\n",
    "# Train a Decision Tree model and evaluate its performance on validation data.\n",
    "\n",
    "# Task 3:  Random Forest on Customer Churn\n",
    "# Apply Random Forest and assess its accuracy on the validation set.\n"
   ]
  }
 ],
 "metadata": {
  "kernelspec": {
   "display_name": "Python 3",
   "language": "python",
   "name": "python3"
  },
  "language_info": {
   "codemirror_mode": {
    "name": "ipython",
    "version": 3
   },
   "file_extension": ".py",
   "mimetype": "text/x-python",
   "name": "python",
   "nbconvert_exporter": "python",
   "pygments_lexer": "ipython3",
   "version": "3.12.5"
  }
 },
 "nbformat": 4,
 "nbformat_minor": 2
}
