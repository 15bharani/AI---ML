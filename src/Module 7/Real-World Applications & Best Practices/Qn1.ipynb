{
 "cells": [
  {
   "cell_type": "code",
   "execution_count": 1,
   "metadata": {},
   "outputs": [],
   "source": [
    "# Title: Fraud Detection\n",
    "\n",
    "# Task 1: An insurance company uses clustering algorithms to detect anomalous claims that might indicate fraud. Implement k-means clustering on the claims data and visualize the clusters to identify potential outliers.\n",
    "# Task 2: A credit card issuer applies hierarchical clustering to transaction data to identify unusual spending patterns that could suggest fraudulent activity. Use dendrograms to visualize customer spending.\n",
    "# Task 3: A bank leverages DBSCAN (Density-Based Spatial Clustering of Applications with Noise) to find unusual spending patterns from data noise. Implement DBSCAN on a sample transaction dataset and identify noise points as potential fraud."
   ]
  }
 ],
 "metadata": {
  "kernelspec": {
   "display_name": "Python 3",
   "language": "python",
   "name": "python3"
  },
  "language_info": {
   "codemirror_mode": {
    "name": "ipython",
    "version": 3
   },
   "file_extension": ".py",
   "mimetype": "text/x-python",
   "name": "python",
   "nbconvert_exporter": "python",
   "pygments_lexer": "ipython3",
   "version": "3.12.5"
  }
 },
 "nbformat": 4,
 "nbformat_minor": 2
}
