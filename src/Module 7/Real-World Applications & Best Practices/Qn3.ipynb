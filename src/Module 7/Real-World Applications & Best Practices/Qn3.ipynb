{
 "cells": [
  {
   "cell_type": "code",
   "execution_count": 2,
   "metadata": {},
   "outputs": [],
   "source": [
    "# Title: Customer Segmentation\n",
    "\n",
    "# Task 1: An e-commerce company applies k-means clustering to segment customers based on purchase behavior. Run k-means on customer transaction history and interpret segments.\n",
    "# Task 2: A retail store uses Gaussian Mixture Models (GMM) to identify customer segments that require different marketing strategies. Implement GMM and visualize the distinguished customer segments.\n",
    "# Task 3: A travel agency leverages k-means clustering to understand customer preferences for various travel packages. Cluster customer preferences data to derive meaningful segmentations."
   ]
  }
 ],
 "metadata": {
  "kernelspec": {
   "display_name": "Python 3",
   "language": "python",
   "name": "python3"
  },
  "language_info": {
   "codemirror_mode": {
    "name": "ipython",
    "version": 3
   },
   "file_extension": ".py",
   "mimetype": "text/x-python",
   "name": "python",
   "nbconvert_exporter": "python",
   "pygments_lexer": "ipython3",
   "version": "3.12.5"
  }
 },
 "nbformat": 4,
 "nbformat_minor": 2
}
