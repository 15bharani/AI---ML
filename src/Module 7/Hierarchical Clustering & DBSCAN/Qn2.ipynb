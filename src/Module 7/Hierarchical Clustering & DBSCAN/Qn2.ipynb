{
 "cells": [
  {
   "cell_type": "code",
   "execution_count": 1,
   "metadata": {},
   "outputs": [],
   "source": [
    "\n",
    "# Dendrograms for Cluster Visualization\n",
    "\n",
    "# Task 1: Visualizing Agglomerative Clustering\n",
    "\n",
    "# 1. Use the same numerical dataset: [1, 2, 5, 10, 15, 30] .\n",
    "# 2. Generate a dendrogram using the linkage method of your choice (e.g., single, complete, average).\n",
    "# 3. Identify the optimal number of clusters by selecting a threshold.\n",
    "\n",
    "\n",
    "# Task 2: Visualizing Divisive Clustering\n",
    "\n",
    "# 1. Employ a simple dataset: [(1, 2), (3, 4), (5, 5), (8, 9), (12, 15)] .\n",
    "# 2. Construct a dendrogram based on divisive clustering.\n",
    "# 3. Discuss how the dendrogram and cluster divisions align.\n",
    "\n",
    "# Task 3: Dendrogram Interpretation on a Real Dataset\n",
    "\n",
    "# 1. Load the Iris dataset.\n",
    "# 2. Perform Agglomerative Clustering and create a dendrogram.\n",
    "# 3. Discuss how the dendrogram can help in understanding the natural grouping of data points in the dataset.\n",
    "\n"
   ]
  }
 ],
 "metadata": {
  "kernelspec": {
   "display_name": "Python 3",
   "language": "python",
   "name": "python3"
  },
  "language_info": {
   "codemirror_mode": {
    "name": "ipython",
    "version": 3
   },
   "file_extension": ".py",
   "mimetype": "text/x-python",
   "name": "python",
   "nbconvert_exporter": "python",
   "pygments_lexer": "ipython3",
   "version": "3.12.5"
  }
 },
 "nbformat": 4,
 "nbformat_minor": 2
}
