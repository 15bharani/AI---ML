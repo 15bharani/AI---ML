{
 "cells": [
  {
   "cell_type": "code",
   "execution_count": 1,
   "metadata": {},
   "outputs": [],
   "source": [
    "\n",
    "#Title:  DBSCAN Clustering for Anomaly Detection\n",
    "\n",
    "# Task 1: DBSCAN on Uniform Data\n",
    "\n",
    "# 1. Generate a dataset with points [(-1, -1), (0, 0), (1, 1), (9, 9), (10, 10)] .\n",
    "# 2. Apply DBSCAN with a small eps (e.g., 0.5) and a minimum number of points (e.g., 2).\n",
    "# 3. Identify which points are treated as noise/outliers.\n",
    "\n",
    "\n",
    "# Task 2: Detecting Anomalies in a Simple Dataset\n",
    "\n",
    "# 1. Use the dataset: [(0, 0), (0, 1), (1, 0), (10, 10), (11, 11)] .\n",
    "# 2. Configure DBSCAN parameters ( eps=1 , min_samples=2 ) and apply it.\n",
    "# 3. Analyze the resulting clusters and classify any points identified as outliers.\n",
    "\n",
    "# Task 3: Exploring Real World Data\n",
    "\n",
    "# 1. Load a dataset with anomalies like credit card transactions.\n",
    "# 2. Apply DBSCAN to detect unusual transactions by adjusting eps and min_samples .\n",
    "# 3. Identify and discuss the points that are marked as noise, understanding why they might be considered anomalies."
   ]
  }
 ],
 "metadata": {
  "kernelspec": {
   "display_name": "Python 3",
   "language": "python",
   "name": "python3"
  },
  "language_info": {
   "codemirror_mode": {
    "name": "ipython",
    "version": 3
   },
   "file_extension": ".py",
   "mimetype": "text/x-python",
   "name": "python",
   "nbconvert_exporter": "python",
   "pygments_lexer": "ipython3",
   "version": "3.12.5"
  }
 },
 "nbformat": 4,
 "nbformat_minor": 2
}
