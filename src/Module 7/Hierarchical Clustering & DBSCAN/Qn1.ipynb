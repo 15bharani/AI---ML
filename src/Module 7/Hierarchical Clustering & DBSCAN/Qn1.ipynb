{
 "cells": [
  {
   "cell_type": "code",
   "execution_count": 1,
   "metadata": {},
   "outputs": [],
   "source": [
    "#Title:  Hierarchical Clustering\n",
    "\n",
    "\n",
    "# Agglomerative vs Divisive Clustering\n",
    "\n",
    "# Task 1: Agglomerative Clustering on Simple Numerical Data\n",
    "\n",
    "# 1. Load the following dataset: [1, 2, 5, 10, 15, 30] .\n",
    "# 2. Apply Agglomerative Clustering where each point starts as its own cluster and successively merge the closest pair of clusters.\n",
    "# 3. Observe and note down the order in which points are merged.\n",
    "\n",
    "\n",
    "# Task 2: Divisive Clustering on Simple Numerical Data\n",
    "\n",
    "# 1. Use the same dataset: [1, 2, 5, 10, 15, 30] .\n",
    "# 2. Start with all points in a single cluster and successively divide until each point is its own cluster.\n",
    "# 3. Record the divisions made at each step.\n",
    "\n",
    "# Task 3: Comparing Agglomerative and Divisive Methods on a 2D Dataset\n",
    "\n",
    "# 1. Create a small 2D dataset: [(1, 2), (2, 3), (10, 10), (25, 25), (26, 27)] .\n",
    "# 2. Apply both Agglomerative and Divisive Clustering on this dataset.\n",
    "# 3. Compare the results and discuss the similarities and differences.\n",
    "\n",
    "\n"
   ]
  }
 ],
 "metadata": {
  "kernelspec": {
   "display_name": "Python 3",
   "language": "python",
   "name": "python3"
  },
  "language_info": {
   "codemirror_mode": {
    "name": "ipython",
    "version": 3
   },
   "file_extension": ".py",
   "mimetype": "text/x-python",
   "name": "python",
   "nbconvert_exporter": "python",
   "pygments_lexer": "ipython3",
   "version": "3.12.5"
  }
 },
 "nbformat": 4,
 "nbformat_minor": 2
}
