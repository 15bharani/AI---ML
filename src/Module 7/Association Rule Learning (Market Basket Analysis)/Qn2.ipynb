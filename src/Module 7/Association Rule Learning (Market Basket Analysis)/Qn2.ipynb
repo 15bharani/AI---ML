{
 "cells": [
  {
   "cell_type": "code",
   "execution_count": 1,
   "metadata": {},
   "outputs": [],
   "source": [
    "# Title: clat Algorithm & FP-Growth\n",
    "\n",
    "# Task 1: Shopping Basket Analysis with Eclat\n",
    "# Dataset: {Apples, Oranges, Bananas}, {Apples, Bananas}, {Bananas, Pears, Grapes},{Oranges, Apples}\n",
    "# Task: Implement the Eclat algorithm to discover frequent item sets.\n",
    "\n",
    "# Task 2: Online Shopping Data with FP-Growth\n",
    "# Dataset: {Laptop, Mouse}, {Mouse, Keypad}, {Laptop, Keypad}, {Laptop, Mouse,Keypad}\n",
    "# Task: Use FP-Growth to extract frequent patterns and comment on the relationships\n",
    "# discovered.\n",
    "\n",
    "# Task 3: Mobile App Usage Data with FP-Growth\n",
    "# Dataset: {App A, App B, App C}, {App B, App C}, {App A, App B}, {App C, App A}\n",
    "# Task: Implement FP-Growth to identify frequent app usage combinations."
   ]
  }
 ],
 "metadata": {
  "kernelspec": {
   "display_name": "Python 3",
   "language": "python",
   "name": "python3"
  },
  "language_info": {
   "codemirror_mode": {
    "name": "ipython",
    "version": 3
   },
   "file_extension": ".py",
   "mimetype": "text/x-python",
   "name": "python",
   "nbconvert_exporter": "python",
   "pygments_lexer": "ipython3",
   "version": "3.12.5"
  }
 },
 "nbformat": 4,
 "nbformat_minor": 2
}
