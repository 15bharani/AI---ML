{
 "cells": [
  {
   "cell_type": "code",
   "execution_count": null,
   "metadata": {},
   "outputs": [],
   "source": [
    "# Title: Apriori Algorithm\n",
    "\n",
    "# Task 1: Grocery Store Transactions\n",
    "# Dataset: {Milk, Bread}, {Milk, Diaper, Beer, Bread}, {Milk, Diaper, Beer, Coke}, {Bread, Egg, Milk}, {Bread, Egg, Diaper, Milk, Beer}\n",
    "# Task: Identify frequent item sets using the Apriori Algorithm with a minimum support threshold of 50%.\n",
    "\n",
    "# Task 2: Retail Store Data\n",
    "# Dataset: {Shirt, Tie}, {Shirt, Belt, Tie}, {Shirt, Belt}, {Tie, Belt}, {Shirt, Tie, Belt}\n",
    "# Task: Generate association rules after identifying frequent itemsets with a confidence threshold of 60%.\n",
    "\n",
    "# Task 3: Bookstore Purchases\n",
    "# Dataset: {Book A, Book B}, {Book A, Book C}, {Book B, Book C, Book A}, {Book B, Book D}\n",
    "# Task: Use the Apriori algorithm to find rules with a support threshold of 40% and confidence threshold of 70%.\n"
   ]
  }
 ],
 "metadata": {
  "language_info": {
   "name": "python"
  }
 },
 "nbformat": 4,
 "nbformat_minor": 2
}
